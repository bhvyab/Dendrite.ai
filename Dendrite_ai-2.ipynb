{
  "nbformat": 4,
  "nbformat_minor": 0,
  "metadata": {
    "colab": {
      "provenance": []
    },
    "kernelspec": {
      "name": "python3",
      "display_name": "Python 3"
    },
    "language_info": {
      "name": "python"
    }
  },
  "cells": [
    {
      "cell_type": "code",
      "execution_count": 103,
      "metadata": {
        "colab": {
          "base_uri": "https://localhost:8080/"
        },
        "id": "gn-sW09K3wJ4",
        "outputId": "00875518-887e-4cf5-a5d5-2790d27679e0"
      },
      "outputs": [
        {
          "output_type": "stream",
          "name": "stdout",
          "text": [
            "Looking in indexes: https://pypi.org/simple, https://us-python.pkg.dev/colab-wheels/public/simple/\n",
            "Requirement already satisfied: striprtf in /usr/local/lib/python3.8/dist-packages (0.0.22)\n",
            "Looking in indexes: https://pypi.org/simple, https://us-python.pkg.dev/colab-wheels/public/simple/\n",
            "Requirement already satisfied: xgboost in /usr/local/lib/python3.8/dist-packages (0.90)\n",
            "Requirement already satisfied: scipy in /usr/local/lib/python3.8/dist-packages (from xgboost) (1.7.3)\n",
            "Requirement already satisfied: numpy in /usr/local/lib/python3.8/dist-packages (from xgboost) (1.21.6)\n"
          ]
        }
      ],
      "source": [
        "!pip install striprtf\n",
        "!pip install xgboost"
      ]
    },
    {
      "cell_type": "code",
      "source": [
        "from sklearn.ensemble import RandomForestRegressor, RandomForestClassifier, ExtraTreesClassifier\n",
        "from sklearn.ensemble import GradientBoostingRegressor, GradientBoostingClassifier\n",
        "from sklearn.linear_model import LinearRegression, LogisticRegression, SGDClassifier\n",
        "from sklearn.linear_model import Ridge, Lasso, ElasticNet\n",
        "from xgboost import XGBRegressor\n",
        "from sklearn.tree import DecisionTreeRegressor, DecisionTreeClassifier\n",
        "from sklearn.svm import SVC\n",
        "from sklearn.neighbors import KNeighborsClassifier\n",
        "from sklearn.neural_network import MLPClassifier\n",
        "from sklearn.model_selection import GridSearchCV, StratifiedKFold, RepeatedKFold, RepeatedStratifiedKFold, KFold\n",
        "from sklearn.feature_selection import SelectFromModel, SelectKBest, r_regression"
      ],
      "metadata": {
        "id": "3Odpfz6M8W4-"
      },
      "execution_count": 104,
      "outputs": []
    },
    {
      "cell_type": "code",
      "source": [
        "#converting rtf to text for accessing the json script easily\n",
        "from striprtf.striprtf import rtf_to_text\n",
        "with open('algoparams_from_ui.json.rtf', 'r') as file:\n",
        "    rtf = file.read()\n",
        "    text = rtf_to_text(rtf)\n",
        "print(text)"
      ],
      "metadata": {
        "colab": {
          "base_uri": "https://localhost:8080/"
        },
        "id": "IcYY1CSl3-Qp",
        "outputId": "34b04dd3-42fb-4504-a7b2-dfaf8955412a"
      },
      "execution_count": 105,
      "outputs": [
        {
          "output_type": "stream",
          "name": "stdout",
          "text": [
            "{\n",
            "    \"session_name\": \"test\",\n",
            "    \"session_description\": \"test\",\n",
            "    \"design_state_data\": {\n",
            "\n",
            "      \"session_info\" : {\n",
            "        \"project_id\": \"1\",\n",
            "        \"experiment_id\": \"kkkk-11\",\n",
            "        \"dataset\":\"iris_modified.csv\",\n",
            "        \"session_name\": \"test\",\n",
            "        \"session_description\": \"test\"\n",
            "        },\n",
            "\n",
            "      \"target\": {\n",
            "        \"prediction_type\": \"Regression\",\n",
            "        \"target\": \"petal_width\",\n",
            "        \"type\":\"regression\",\n",
            "        \"partitioning\": true\n",
            "      },\n",
            "      \"train\": {\n",
            "        \"policy\": \"Split the dataset\",\n",
            "        \"time_variable\": \"sepal_length\",\n",
            "        \"sampling_method\": \"No sampling(whole data)\",\n",
            "        \"split\": \"Randomly\",\n",
            "        \"k_fold\": false,\n",
            "        \"train_ratio\": 0,\n",
            "        \"random_seed\": 0\n",
            "      },\n",
            "      \"metrics\": {\n",
            "        \"optomize_model_hyperparameters_for\": \"AUC\",\n",
            "        \"optimize_threshold_for\": \"F1 Score\",\n",
            "        \"compute_lift_at\": 0,\n",
            "        \"cost_matrix_gain_for_true_prediction_true_result\": 1,\n",
            "        \"cost_matrix_gain_for_true_prediction_false_result\": 0,\n",
            "        \"cost_matrix_gain_for_false_prediction_true_result\": 0,\n",
            "        \"cost_matrix_gain_for_false_prediction_false_result\": 0\n",
            "      },\n",
            "      \"feature_handling\": {\n",
            "        \"sepal_length\": {\n",
            "          \"feature_name\": \"sepal_length\",\n",
            "          \"is_selected\": true,\n",
            "          \"feature_variable_type\": \"numerical\",\n",
            "          \"feature_details\": {\n",
            "            \"numerical_handling\": \"Keep as regular numerical feature\",\n",
            "            \"rescaling\": \"No rescaling\",\n",
            "            \"make_derived_feats\": false,\n",
            "            \"missing_values\": \"Impute\",\n",
            "            \"impute_with\": \"Average of values\",\n",
            "            \"impute_value\": 0\n",
            "          }\n",
            "        },\n",
            "        \"sepal_width\": {\n",
            "          \"feature_name\": \"sepal_width\",\n",
            "          \"is_selected\": true,\n",
            "          \"feature_variable_type\": \"numerical\",\n",
            "          \"feature_details\": {\n",
            "            \"numerical_handling\": \"Keep as regular numerical feature\",\n",
            "            \"rescaling\": \"No rescaling\",\n",
            "            \"make_derived_feats\": false,\n",
            "            \"missing_values\": \"Impute\",\n",
            "            \"impute_with\": \"custom\",\n",
            "            \"impute_value\": -1\n",
            "          }\n",
            "        },\n",
            "        \"petal_length\": {\n",
            "          \"feature_name\": \"petal_length\",\n",
            "          \"is_selected\": true,\n",
            "          \"feature_variable_type\": \"numerical\",\n",
            "          \"feature_details\": {\n",
            "            \"numerical_handling\": \"Keep as regular numerical feature\",\n",
            "            \"rescaling\": \"No rescaling\",\n",
            "            \"make_derived_feats\": false,\n",
            "            \"missing_values\": \"Impute\",\n",
            "            \"impute_with\": \"Average of values\",\n",
            "            \"impute_value\": 0\n",
            "          }\n",
            "        },\n",
            "        \"petal_width\": {\n",
            "          \"feature_name\": \"petal_width\",\n",
            "          \"is_selected\": true,\n",
            "          \"feature_variable_type\": \"numerical\",\n",
            "          \"feature_details\": {\n",
            "            \"numerical_handling\": \"Keep as regular numerical feature\",\n",
            "            \"rescaling\": \"No rescaling\",\n",
            "            \"make_derived_feats\": false,\n",
            "            \"missing_values\": \"Impute\",\n",
            "            \"impute_with\": \"custom\",\n",
            "            \"impute_value\": -2\n",
            "          }\n",
            "        },\n",
            "        \"species\": {\n",
            "          \"feature_name\": \"species\",\n",
            "          \"is_selected\": true,\n",
            "          \"feature_variable_type\": \"text\",\n",
            "          \"feature_details\": {\n",
            "            \"text_handling\": \"Tokenize and hash\",\n",
            "            \"hash_columns\": 0\n",
            "          }\n",
            "        }\n",
            "      },\n",
            "      \"feature_generation\": {\n",
            "        \"linear_interactions\": [[\"petal_length\", \"sepal_width\"]],\n",
            "        \"linear_scalar_type\": \"robust\",\n",
            "        \"polynomial_interactions\": [\n",
            "          \"petal_length/sepal_width\",\n",
            "          \"petal_width/species\"\n",
            "        ],\n",
            "        \"explicit_pairwise_interactions\": [\n",
            "          \"sepal_width/sepal_length\",\n",
            "          \"petal_width/sepal_length\"\n",
            "        ]\n",
            "      },\n",
            "      \"feature_reduction\": {\n",
            "        \"feature_reduction_method\": \"Tree-based\",\n",
            "        \"num_of_features_to_keep\": \"4\",\n",
            "        \"num_of_trees\": \"5\",\n",
            "        \"depth_of_trees\": \"6\"\n",
            "      },\n",
            "      \"hyperparameters\": {\n",
            "        \"stratergy\": \"Grid Search\",\n",
            "        \"shuffle_grid\": true,\n",
            "        \"random_state\": 1,\n",
            "        \"max_iterations\": 2,\n",
            "        \"max_search_time\": 3,\n",
            "        \"parallelism\": 5,\n",
            "        \"cross_validation_stratergy\": \"Time-based K-fold(with overlap)\",\n",
            "        \"num_of_folds\": 6,\n",
            "        \"split_ratio\": 0,\n",
            "        \"stratified\": true\n",
            "      },\n",
            "      \"weighting_stratergy\": {\n",
            "        \"weighting_stratergy_method\": \"Sample weights\",\n",
            "        \"weighting_stratergy_weight_variable\": \"petal_length\"\n",
            "      },\n",
            "      \"probability_calibration\": {\n",
            "        \"probability_calibration_method\": \"Sigmoid - Platt Scaling\"\n",
            "      },\n",
            "      \"algorithms\": {\n",
            "        \"RandomForestClassifier\": {\n",
            "          \"model_name\": \"Random Forest Classifier\",\n",
            "          \"is_selected\": false,\n",
            "          \"min_trees\": 10,\n",
            "          \"max_trees\": 30,\n",
            "          \"feature_sampling_statergy\": \"Default\",\n",
            "          \"min_depth\": 20,\n",
            "          \"max_depth\": 30,\n",
            "          \"min_samples_per_leaf_min_value\": 5,\n",
            "          \"min_samples_per_leaf_max_value\": 50,\n",
            "          \"parallelism\": 0\n",
            "        },\n",
            "        \"RandomForestRegressor\": {\n",
            "          \"model_name\": \"Random Forest Regressor\",\n",
            "          \"is_selected\": true,\n",
            "          \"min_trees\": 10,\n",
            "          \"max_trees\": 20,\n",
            "          \"feature_sampling_statergy\": \"Default\",\n",
            "          \"min_depth\": 20,\n",
            "          \"max_depth\": 25,\n",
            "          \"min_samples_per_leaf_min_value\": 5,\n",
            "          \"min_samples_per_leaf_max_value\": 10,\n",
            "          \"parallelism\": 0\n",
            "        },\n",
            "        \"GBTClassifier\": {\n",
            "          \"model_name\": \"Gradient Boosted Trees\",\n",
            "          \"is_selected\": false,\n",
            "          \"num_of_BoostingStages\": [67, 89],\n",
            "          \"feature_sampling_statergy\": \"Fixed number\",\n",
            "          \"learningRate\": [],\n",
            "          \"use_deviance\": true,\n",
            "          \"use_exponential\": false,\n",
            "          \"fixed_number\": 22,\n",
            "          \"min_subsample\": 1,\n",
            "          \"max_subsample\": 2,\n",
            "          \"min_stepsize\":0.1,\n",
            "          \"max_stepsize\":0.5, \n",
            "          \"min_iter\":20,\n",
            "          \"max_iter\":40,\n",
            "          \"min_depth\":5,\n",
            "          \"max_depth\":7\n",
            "\n",
            "        },\n",
            "        \"GBTRegressor\": {\n",
            "          \"model_name\": \"Gradient Boosted Trees\",\n",
            "          \"is_selected\": false,\n",
            "          \"num_of_BoostingStages\": [67, 89],\n",
            "          \"feature_sampling_statergy\": \"Fixed number\",\n",
            "          \"use_deviance\": true,\n",
            "          \"use_exponential\": false,\n",
            "          \"fixed_number\": 22,\n",
            "          \"min_subsample\": 1,\n",
            "          \"max_subsample\": 2,\n",
            "          \"min_stepsize\":0.1,\n",
            "          \"max_stepsize\":0.5, \n",
            "          \"min_iter\":20,\n",
            "          \"max_iter\":40,\n",
            "          \"min_depth\":5,\n",
            "          \"max_depth\":7\n",
            "        },\n",
            "        \"LinearRegression\": {\n",
            "          \"model_name\": \"LinearRegression\",\n",
            "          \"is_selected\": false,\n",
            "          \"parallelism\": 2,\n",
            "          \"min_iter\":30,\n",
            "          \"max_iter\":50,\n",
            "          \"min_regparam\":0.5,\n",
            "          \"max_regparam\":0.8,\n",
            "          \"min_elasticnet\":0.5,\n",
            "          \"max_elasticnet\":0.8\n",
            "        },\n",
            "        \"LogisticRegression\": {\n",
            "          \"model_name\": \"LogisticRegression\",\n",
            "          \"is_selected\": false,\n",
            "          \"parallelism\": 2,\n",
            "          \"min_iter\":30,\n",
            "          \"max_iter\":50,\n",
            "          \"min_regparam\":0.5,\n",
            "          \"max_regparam\":0.8,\n",
            "          \"min_elasticnet\":0.5,\n",
            "          \"max_elasticnet\":0.8\n",
            "        },\n",
            "        \"RidgeRegression\": {\n",
            "          \"model_name\": \"RidgeRegression\",\n",
            "          \"is_selected\": false,\n",
            "          \"regularization_term\": \"Specify values to test\",\n",
            "          \"min_iter\":30,\n",
            "          \"max_iter\":50,\n",
            "          \"min_regparam\":0.5,\n",
            "          \"max_regparam\":0.8\n",
            "        },\n",
            "        \"LassoRegression\": {\n",
            "          \"model_name\": \"Lasso Regression\",\n",
            "          \"is_selected\": false,\n",
            "          \"regularization_term\": \"Specify values to test\",\n",
            "          \"min_iter\":30,\n",
            "          \"max_iter\":50,\n",
            "          \"min_regparam\":0.5,\n",
            "          \"max_regparam\":0.8\n",
            "        },\n",
            "        \"ElasticNetRegression\": {\n",
            "          \"model_name\": \"Lasso Regression\",\n",
            "          \"is_selected\": false,\n",
            "          \"regularization_term\": \"Specify values to test\",\n",
            "          \"min_iter\":30,\n",
            "          \"max_iter\":50,\n",
            "          \"min_regparam\":0.5,\n",
            "          \"max_regparam\":0.8,\n",
            "          \"min_elasticnet\":0.5,\n",
            "          \"max_elasticnet\":0.8\n",
            "        },\n",
            "        \"xg_boost\": {\n",
            "          \"model_name\": \"XG Boost\",\n",
            "          \"is_selected\": false,\n",
            "          \"use_gradient_boosted_tree\": true,\n",
            "          \"dart\": true,\n",
            "          \"tree_method\": \"\",\n",
            "          \"random_state\": 0,\n",
            "          \"max_num_of_trees\": 0,\n",
            "          \"early_stopping\": true,\n",
            "          \"early_stopping_rounds\": 2,\n",
            "          \"max_depth_of_tree\": [56, 89], \n",
            "          \"learningRate\": [89, 76],\n",
            "          \"l1_regularization\": [77],\n",
            "          \"l2_regularization\": [78],\n",
            "          \"gamma\": [68],\n",
            "          \"min_child_weight\": [67],\n",
            "          \"sub_sample\": [67],\n",
            "          \"col_sample_by_tree\": [67],\n",
            "          \"replace_missing_values\": false,\n",
            "          \"parallelism\": 0\n",
            "        },\n",
            "        \"DecisionTreeRegressor\": {\n",
            "          \"model_name\": \"Decision Tree\",\n",
            "          \"is_selected\": false,\n",
            "          \"min_depth\":4,\n",
            "          \"max_depth\": 7,\n",
            "          \"use_gini\": false,\n",
            "          \"use_entropy\": true,\n",
            "          \"min_samples_per_leaf\": [12, 6],\n",
            "          \"use_best\": true,\n",
            "          \"use_random\": true\n",
            "        },\n",
            "        \"DecisionTreeClassifier\": {\n",
            "          \"model_name\": \"Decision Tree\",\n",
            "          \"is_selected\": false,\n",
            "          \"min_depth\":4,\n",
            "          \"max_depth\": 7,\n",
            "          \"use_gini\": false,\n",
            "          \"use_entropy\": true,\n",
            "          \"min_samples_per_leaf\": [12, 6],\n",
            "          \"use_best\": true,\n",
            "          \"use_random\": true\n",
            "        },\n",
            "        \"SVM\": {\n",
            "          \"model_name\": \"Support Vector Machine\",\n",
            "          \"is_selected\": false,\n",
            "          \"linear_kernel\": true,\n",
            "          \"rep_kernel\": true,\n",
            "          \"polynomial_kernel\": true,\n",
            "          \"sigmoid_kernel\": true,\n",
            "          \"c_value\": [566, 79],\n",
            "          \"auto\": true,\n",
            "          \"scale\": true,\n",
            "          \"custom_gamma_values\": true,\n",
            "          \"tolerance\": 7,\n",
            "          \"max_iterations\": 7\n",
            "        },\n",
            "        \"SGD\": {\n",
            "          \"model_name\": \"Stochastic Gradient Descent\",\n",
            "          \"is_selected\": false,\n",
            "          \"use_logistics\": true,\n",
            "          \"use_modified_hubber_loss\": false,\n",
            "          \"max_iterations\": false,\n",
            "          \"tolerance\": 56,\n",
            "          \"use_l1_regularization\": \"on\",\n",
            "          \"use_l2_regularization\": \"on\",\n",
            "          \"use_elastic_net_regularization\": true,\n",
            "          \"alpha_value\": [79, 56],\n",
            "          \"parallelism\": 1\n",
            "        },\n",
            "        \"KNN\": {\n",
            "          \"model_name\": \"KNN\",\n",
            "          \"is_selected\": false,\n",
            "          \"k_value\": [78],\n",
            "          \"distance_weighting\": true,\n",
            "          \"neighbour_finding_algorithm\": \"Automatic\",\n",
            "          \"random_state\": 0,\n",
            "          \"p_value\": 0\n",
            "        },\n",
            "        \"extra_random_trees\": {\n",
            "          \"model_name\": \"Extra Random Trees\",\n",
            "          \"is_selected\": false,\n",
            "          \"num_of_trees\": [45, 489],\n",
            "          \"feature_sampling_statergy\": \"Square root and Logarithm\",\n",
            "          \"max_depth\": [12, 45],\n",
            "          \"min_samples_per_leaf\": [78, 56],\n",
            "          \"parallelism\": 3\n",
            "        },\n",
            "        \"neural_network\": {\n",
            "          \"model_name\": \"Neural Network\",\n",
            "          \"is_selected\": false,\n",
            "          \"hidden_layer_sizes\": [67, 89],\n",
            "          \"activation\": \"\",\n",
            "          \"alpha_value\": 0,\n",
            "          \"max_iterations\": 0,\n",
            "          \"convergence_tolerance\": 0,\n",
            "          \"early_stopping\": true,\n",
            "          \"solver\": \"ADAM\",\n",
            "          \"shuffle_data\": true,\n",
            "          \"initial_learning_rate\": 0,\n",
            "          \"automatic_batching\": true,\n",
            "          \"beta_1\": 0,\n",
            "          \"beta_2\": 0,\n",
            "          \"epsilon\": 0,\n",
            "          \"power_t\": 0,\n",
            "          \"momentum\": 0,\n",
            "          \"use_nesterov_momentum\": false\n",
            "        }\n",
            "      }\n",
            "    }\n",
            "  }\n",
            "  \n",
            "\n",
            "\n"
          ]
        }
      ]
    },
    {
      "cell_type": "code",
      "source": [
        "import json\n",
        "out_file = open(\"algoparams_from_ui.json\", \"w\") #creating a json file using the text from rtf\n",
        "json.dump(text, out_file, indent = 4)\n",
        "json_text = open('algoparams_from_ui.json','r')\n",
        "data = json.load(json_text) # loading the json file\n",
        "data = json.loads(data) # json is in the form of string, therefore using loads"
      ],
      "metadata": {
        "id": "BicGRpGq4ixC"
      },
      "execution_count": 106,
      "outputs": []
    },
    {
      "cell_type": "markdown",
      "source": [
        "## 1. Read the target and type of regression to be run"
      ],
      "metadata": {
        "id": "6k8hWrwltVd-"
      }
    },
    {
      "cell_type": "code",
      "source": [
        "data['design_state_data']['target']"
      ],
      "metadata": {
        "colab": {
          "base_uri": "https://localhost:8080/"
        },
        "id": "4RXwE3DA6BMz",
        "outputId": "9af5183a-8715-45cc-e139-32897d89fcf6"
      },
      "execution_count": 107,
      "outputs": [
        {
          "output_type": "execute_result",
          "data": {
            "text/plain": [
              "{'prediction_type': 'Regression',\n",
              " 'target': 'petal_width',\n",
              " 'type': 'regression',\n",
              " 'partitioning': True}"
            ]
          },
          "metadata": {},
          "execution_count": 107
        }
      ]
    },
    {
      "cell_type": "code",
      "source": [
        "data['design_state_data']['target']['type']"
      ],
      "metadata": {
        "colab": {
          "base_uri": "https://localhost:8080/",
          "height": 37
        },
        "id": "lBedHjActOO7",
        "outputId": "ad8163ec-7dc3-4edb-b174-071005cbc410"
      },
      "execution_count": 108,
      "outputs": [
        {
          "output_type": "execute_result",
          "data": {
            "text/plain": [
              "'regression'"
            ],
            "application/vnd.google.colaboratory.intrinsic+json": {
              "type": "string"
            }
          },
          "metadata": {},
          "execution_count": 108
        }
      ]
    },
    {
      "cell_type": "markdown",
      "source": [
        "## 2. Read the features(which are column names in the csv) and figure out what missing imputation needs to be applied and apply that to the columns loaded in a dataframe "
      ],
      "metadata": {
        "id": "k5YIbecqttMO"
      }
    },
    {
      "cell_type": "code",
      "source": [
        "import pandas as pd\n",
        "df = pd.read_csv('iris.csv')\n",
        "column_names = list(df.columns.values)\n",
        "column_names"
      ],
      "metadata": {
        "id": "2oGECcEv6fZd",
        "colab": {
          "base_uri": "https://localhost:8080/"
        },
        "outputId": "9854109f-2f85-4f6e-a16e-2b0084f4f3e3"
      },
      "execution_count": 109,
      "outputs": [
        {
          "output_type": "execute_result",
          "data": {
            "text/plain": [
              "['sepal_length', 'sepal_width', 'petal_length', 'petal_width', 'species']"
            ]
          },
          "metadata": {},
          "execution_count": 109
        }
      ]
    },
    {
      "cell_type": "code",
      "source": [
        "if 'feature_handling' in data['design_state_data']:  #checking if feature_handling exists \n",
        "  for key in data['design_state_data']['feature_handling']:\n",
        "    #checking if the features mentioned in feature_handling are present in the column names and checking if the missing_values are handled\n",
        "    if key in column_names and 'missing_values' in data['design_state_data']['feature_handling'][key]['feature_details']:\n",
        "      #checking if average values need to be used for imputations and confirming that the variable type is numerical\n",
        "      if data['design_state_data']['feature_handling'][key]['feature_details']['impute_with'] == 'Average of values' and data['design_state_data']['feature_handling'][key]['feature_variable_type'] == 'numerical':\n",
        "        df[key].fillna(df[key].mean(), inplace = True)\n",
        "      elif data['design_state_data']['feature_handling'][key]['feature_details']['impute_with'] == 'custom':\n",
        "        df[key].fillna(data['design_state_data']['feature_handling'][key]['feature_details']['impute_value'], inplace = True) #for custom imputations, the missing value is imputed by the impute value\n",
        "      else:\n",
        "        print(\"No imputations specified for {}\".format(key))\n",
        "else:\n",
        "  print('Feature handling has not been specified in the JSON file')\n"
      ],
      "metadata": {
        "id": "za3TqFOkcxc2"
      },
      "execution_count": 110,
      "outputs": []
    },
    {
      "cell_type": "markdown",
      "source": [
        "## 3. Compute feature reduction based on input."
      ],
      "metadata": {
        "id": "Lwui0VdFuJHP"
      }
    },
    {
      "cell_type": "code",
      "source": [
        "feat_red_options = ['no reduction', 'correlation with target', 'tree-based', 'principal component analysis'] #options existing for feature reduction methods\n",
        "feat_red = input()\n",
        "if feat_red.lower() not in feat_red_options:\n",
        "  print('Please provide a method among the options',(feat_red_options))"
      ],
      "metadata": {
        "colab": {
          "base_uri": "https://localhost:8080/"
        },
        "id": "6KI60Qia1_6f",
        "outputId": "d42ede52-af89-4ffc-ac3e-daf3f8c64a58"
      },
      "execution_count": 111,
      "outputs": [
        {
          "name": "stdout",
          "output_type": "stream",
          "text": [
            "tree-based\n"
          ]
        }
      ]
    },
    {
      "cell_type": "code",
      "source": [
        "data['design_state_data']['feature_reduction']['feature_reduction_method'] = feat_red"
      ],
      "metadata": {
        "id": "wV7ybyJG3icV"
      },
      "execution_count": 112,
      "outputs": []
    },
    {
      "cell_type": "code",
      "source": [
        "X = df.iloc[:,[0,1,2,3]]\n",
        "Y = df.iloc[:,[-1]]\n",
        "#Encoding labels from text to integers\n",
        "from sklearn import preprocessing\n",
        "le = preprocessing.LabelEncoder()\n",
        "le.fit(Y)\n",
        "Y_encoded = le.transform(Y)"
      ],
      "metadata": {
        "colab": {
          "base_uri": "https://localhost:8080/"
        },
        "id": "56DmKjtpsK2H",
        "outputId": "56c4bd2a-842a-4210-d503-d595cc7dce33"
      },
      "execution_count": 113,
      "outputs": [
        {
          "output_type": "stream",
          "name": "stderr",
          "text": [
            "/usr/local/lib/python3.8/dist-packages/sklearn/preprocessing/_label.py:98: DataConversionWarning: A column-vector y was passed when a 1d array was expected. Please change the shape of y to (n_samples, ), for example using ravel().\n",
            "  y = column_or_1d(y, warn=True)\n",
            "/usr/local/lib/python3.8/dist-packages/sklearn/preprocessing/_label.py:133: DataConversionWarning: A column-vector y was passed when a 1d array was expected. Please change the shape of y to (n_samples, ), for example using ravel().\n",
            "  y = column_or_1d(y, warn=True)\n"
          ]
        }
      ]
    },
    {
      "cell_type": "code",
      "source": [
        "def tree_based(X, Y_encoded, data): #returns the reduced features using RandomForestRegressor and SelectFromModel methods\n",
        "  num_trees = data['design_state_data']['feature_reduction']['num_of_trees']\n",
        "  depth_trees = data['design_state_data']['feature_reduction']['depth_of_trees']\n",
        "  max_features = data['design_state_data']['feature_reduction']['num_of_features_to_keep']\n",
        "  sel_model = SelectFromModel(RandomForestRegressor(n_estimators = int(num_trees),max_depth = int(depth_trees)), max_features = int(max_features) )\n",
        "  sel_model.fit(X, Y_encoded)\n",
        "  final_features = sel_model.transform(X)\n",
        "  #final_features = [X.columns[(sel_model.get_support())],Y_encoded.columns[(sel_model.get_support())]]\n",
        "  return final_features\n",
        "\n",
        "def no_reduction(X): #returns the input as it is, since no reduction\n",
        "  return X\n",
        "\n",
        "def corr_with_target(X, Y_encoded, data): #returns reduced features based on pearson correlation\n",
        "  num_features_to_keep = data['design_state_data']['feature_reduction']['num_of_features_to_keep']\n",
        "  final_features = SelectKBest(r_regression, k=int(num_features_to_keep)).fit_transform(X, Y_encoded)\n",
        "  return final_features\n",
        "\n",
        "def PCA(X, data): #returns reduced features by performing PCA\n",
        "  num_features_to_keep = data['design_state_data']['feature_reduction']['num_of_features_to_keep']\n",
        "  final_features = PCA(n_components=int(num_features_to_keep)).fit(X)\n",
        "  return final_features"
      ],
      "metadata": {
        "id": "oy3LLRnZz4TU"
      },
      "execution_count": 114,
      "outputs": []
    },
    {
      "cell_type": "code",
      "source": [
        "if feat_red.lower() == 'tree-based':\n",
        "  reduced_features = tree_based(X, Y_encoded, data)\n",
        "elif feat_red.lower() == 'no reduction':\n",
        "  reduced_features = no_reduction(X)\n",
        "elif feat_red.lower() == 'correlation with target':\n",
        "  reduced_features = corr_with_target(X, Y_encoded, data)\n",
        "elif feat_red.lower() == 'principal component analysis':\n",
        "  reduced_features = corr_with_target(X, data)"
      ],
      "metadata": {
        "id": "r429Eig89jCz"
      },
      "execution_count": 115,
      "outputs": []
    },
    {
      "cell_type": "markdown",
      "source": [
        "## 4. Parse the json and make the model objects(using sklean)  "
      ],
      "metadata": {
        "id": "sQ7rp2SiIwuy"
      }
    },
    {
      "cell_type": "code",
      "source": [
        "#Regression and classification models seggregated\n",
        "if data['design_state_data']['target']['prediction_type'] == 'Regression':\n",
        "  models = {\"RandomForestRegressor\":  RandomForestRegressor(),\n",
        "            \"GBTRegressor\": GradientBoostingRegressor(),\n",
        "            \"LinearRegression\": LinearRegression(),\n",
        "            \"RidgeRegression\": Ridge(),\n",
        "            \"LassoRegression\": Lasso(),\n",
        "            \"ElasticNetRegression\": ElasticNet(),\n",
        "            \"xg_boost\": XGBRegressor(),\n",
        "            \"DecisionTreeRegressor\": DecisionTreeRegressor()}\n",
        "elif data['design_state_data']['target']['prediction_type'] == 'Classification':\n",
        "  models = {\"RandomForestClassifier\": RandomForestClassifier(),\n",
        "            \"GBTClassifier\": GradientBoostingClassifier(),\n",
        "            \"LogisticRegression\": LogisticRegression(),\n",
        "            \"DecisionTreeClassifier\": DecisionTreeClassifier(),\n",
        "            \"SVM\": SVC(),\n",
        "            \"SGD\": SGDClassifier(),\n",
        "            \"KNN\": KNeighborsClassifier(),\n",
        "            \"extra_random_trees\": ExtraTreesClassifier(),\n",
        "            \"neural_network\": MLPClassifier()}\n",
        "else:\n",
        "  print('The prediction_type can be Regression or Classification only')\n"
      ],
      "metadata": {
        "id": "l5iU76uhsN64"
      },
      "execution_count": 116,
      "outputs": []
    },
    {
      "cell_type": "markdown",
      "source": [
        "## 5. Run the fit and predict on each model and 6. Log to the console the standard model metrics that apply"
      ],
      "metadata": {
        "id": "5bnPgGfyJHcA"
      }
    },
    {
      "cell_type": "code",
      "source": [
        "hyp_params = data['design_state_data']['hyperparameters']\n",
        "if (hyp_params['stratified']) == True and hyp_params['max_iterations'] < 1:\n",
        "  cv = StratifiedKFold(n_splits = hyp_params['num_of_folds'], shuffle = hyp_params['shuffle_grid'], random_state = hyp_params['random_state'])\n",
        "elif hyp_params['stratified'] == True and hyp_params['max_iterations'] > 1:\n",
        "  cv = RepeatedStratifiedKFold(n_splits = hyp_params['num_of_folds'], n_repeats = hyp_params['max_iterations'], random_state = hyp_params['random_state'])\n",
        "elif hyp_params['stratified'] == False and hyp_params['max_iterations'] > 1:\n",
        "  cv = RepeatedKFold(n_splits = hyp_params['num_of_folds'], n_repeats = hyp_params['max_iterations'], random_state = hyp_params['random_state'])\n",
        "else:\n",
        "  cv = KFold(n_splits = hyp_params['num_of_folds'], shuffle = hyp_params['shuffle_grid'], random_state = hyp_params['random_state'])\n"
      ],
      "metadata": {
        "id": "ww5hhS5BKUSd"
      },
      "execution_count": 117,
      "outputs": []
    },
    {
      "cell_type": "code",
      "source": [
        "def RFparams(data, model_name):\n",
        "  RF_params = data['design_state_data']['algorithms'][model_name]\n",
        "  parameters = {'n_estimators': [RF_params['min_trees'],RF_params['max_trees']],\n",
        "                'max_depth': [RF_params['min_depth'],RF_params['max_depth']],\n",
        "                'min_samples_leaf': [RF_params['min_samples_per_leaf_min_value'],RF_params['min_samples_per_leaf_max_value']]}\n",
        "  return parameters\n",
        "\n",
        "def GBTparams(data,model_name):\n",
        "  GBTparams = data['design_state_data']['algorithms'][model_name]\n",
        "  parameters = {}\n",
        "  #parameters['n_estimators'] = GBTparams['num_of_BoostingStages']\n",
        "  parameters['subsample'] = [GBTparams['min_subsample'], GBTparams['max_subsample']]\n",
        "  parameters['learning_rate'] = [GBTparams['min_stepsize'], GBTparams['max_stepsize']]\n",
        "  parameters['n_iter_no_change'] = [GBTparams['min_iter'], GBTparams['max_iter']]\n",
        "  parameters['max_depth'] = [GBTparams['min_depth'], GBTparams['max_depth']]\n",
        "  return parameters\n",
        "\n",
        "def LRparams(data,model_name):\n",
        "  LRparams = data['design_state_data']['algorithms'][model_name]\n",
        "  parameters = {}\n",
        "  #parameters['n_jobs'] = LRparams['parallelism']\n",
        "  parameters['max_iter'] = [LRparams['min_iter'],LRparams['max_iter']]\n",
        "  parameters['C'] = [LRparams['min_regparam'],LRparams['max_regparam']]\n",
        "  parameters['l1_ratio'] = [LRparams['min_elasticnet'],LRparams['max_elasticnet']]\n",
        "  return parameters \n",
        "\n",
        "def Rid_Laso_ENetparams(data,model_name):\n",
        "  Rid_Lasoparams = data['design_state_data']['algorithms'][model_name]\n",
        "  parameters = {}\n",
        "  if type(Rid_Lasoparams['regularization_term']) == 'list':\n",
        "    parameters['solver'] = Rid_Lasoparams['regularization_term']\n",
        "  parameters['max_iter'] = [Rid_Lasoparams['min_iter'],Rid_Lasoparams['max_iter']]\n",
        "  parameters['alpha'] = [Rid_Lasoparams['min_regparam'],Rid_Lasoparams['max_regparam']]\n",
        "  if model_name == 'ElasticNet':\n",
        "    parameters['l1_ratio'] = [Rid_Lasoparams['min_elasticnet'],Rid_Lasoparams['max_elasticnet']] \n",
        "  return parameters \n",
        "\n",
        "def DTparams(data,model_name):\n",
        "  DTparams = data['design_state_data']['algorithms'][model_name]\n",
        "  parameters = {}\n",
        "  parameters['max_depth'] = [DTparams['min_depth'],DTparams['max_depth']]\n",
        "  parameters['min_samples_leaf'] = DTparams['min_samples_per_leaf']\n",
        "  '''\n",
        "  if DTparams['use_best'] == True:\n",
        "    parameters['splitter'] = 'best'\n",
        "  if DTparams['use_random'] == True:\n",
        "    parameters['splitter'] = 'random'\n",
        "  '''\n",
        "  return parameters\n",
        "\n",
        "def xgboost(data,model_name):\n",
        "  xgboost = data['design_state_data']['algorithms'][model_name]\n",
        "  parameters = {}\n",
        "  parameters['max_depth'] = xgboost['max_depth_of_tree']\n",
        "  #parameters['learning_rate'] = xgboost['learningRate']\n",
        "  return parameters\n",
        "\n",
        "def SVMparams(data,model_name):\n",
        "  SVMparams = data['design_state_data']['algorithms'][model_name]\n",
        "  parameters = {'C': SVMparams['c_value']}\n",
        "  return parameters\n",
        "\n",
        "def SGDparams(data,model_name):\n",
        "  SGDparams = data['design_state_data']['algorithms'][model_name]\n",
        "  parameters = {'alpha': SGDparams['alpha_value']}\n",
        "  return parameters\n",
        "\n",
        "def KNNparams(data,model_name):\n",
        "  KNNparams = data['design_state_data']['algorithms'][model_name]\n",
        "  for keys in KNNparams:\n",
        "    if type(KNNparams[keys]) == 'list' and len(KNNparams[keys])>1:\n",
        "      parameters = {'n_neighbors': SGDparams['k_value']}\n",
        "    else:\n",
        "      parameters = {}\n",
        "  return parameters\n",
        "\n",
        "def ertparams(data,model_name):\n",
        "  ertparams = data['design_state_data']['algorithms'][model_name]\n",
        "  parameters = {}\n",
        "  parameters['n_estimators'] = ertparams['num_of_trees']\n",
        "  parameters['max_depth'] = ertparams['max_depth']\n",
        "  parameters['min_samples_leaf'] = ertparams['min_samples_per_leaf']\n",
        "  return parameters\n",
        "\n",
        "def nnparams(data,model_name):\n",
        "  nnparams = data['design_state_data']['algorithms'][model_name]\n",
        "  parameters = {'hidden_layer_sizes':nnparams['hidden_layer_sizes']}\n",
        "  return parameters\n"
      ],
      "metadata": {
        "id": "o1ONoAStchpd"
      },
      "execution_count": 240,
      "outputs": []
    },
    {
      "cell_type": "markdown",
      "source": [
        "##RandomForestRegressor"
      ],
      "metadata": {
        "id": "CnHYoodtIssN"
      }
    },
    {
      "cell_type": "code",
      "source": [
        "model_name = 'RandomForestRegressor'\n",
        "for key in models:\n",
        "  if model_name == key:\n",
        "    print('The model {} has been selected'.format(models[key]))"
      ],
      "metadata": {
        "id": "IhHyZqaXXRMg",
        "colab": {
          "base_uri": "https://localhost:8080/"
        },
        "outputId": "cf65e672-bdb5-4ffe-864a-e553270d8094"
      },
      "execution_count": 142,
      "outputs": [
        {
          "output_type": "stream",
          "name": "stdout",
          "text": [
            "The model RandomForestRegressor() has been selected\n"
          ]
        }
      ]
    },
    {
      "cell_type": "code",
      "source": [
        "if model_name == 'RandomForestRegressor' or 'RandomForestClassifier':\n",
        "  model = models[model_name]\n",
        "  clf = GridSearchCV(model, RFparams(data, model_name), n_jobs = hyp_params['parallelism'], cv = cv)"
      ],
      "metadata": {
        "id": "mPeBeT8fEQz5"
      },
      "execution_count": 143,
      "outputs": []
    },
    {
      "cell_type": "code",
      "source": [
        "X_new = reduced_features\n",
        "Y_new = Y_encoded\n",
        "clf.fit(X_new, Y_new)"
      ],
      "metadata": {
        "colab": {
          "base_uri": "https://localhost:8080/"
        },
        "id": "GOnmNnr_FEqa",
        "outputId": "ea990c53-003a-4525-b3e4-be50121bbe09"
      },
      "execution_count": 144,
      "outputs": [
        {
          "output_type": "execute_result",
          "data": {
            "text/plain": [
              "GridSearchCV(cv=RepeatedStratifiedKFold(n_repeats=2, n_splits=6, random_state=1),\n",
              "             estimator=RandomForestRegressor(), n_jobs=5,\n",
              "             param_grid={'max_depth': [20, 25], 'min_samples_leaf': [5, 10],\n",
              "                         'n_estimators': [10, 20]})"
            ]
          },
          "metadata": {},
          "execution_count": 144
        }
      ]
    },
    {
      "cell_type": "code",
      "source": [
        "clf.cv_results_"
      ],
      "metadata": {
        "colab": {
          "base_uri": "https://localhost:8080/"
        },
        "id": "boCYqmI7FFYN",
        "outputId": "63fd9a65-8f44-47a6-88b9-ff544c483d00"
      },
      "execution_count": 145,
      "outputs": [
        {
          "output_type": "execute_result",
          "data": {
            "text/plain": [
              "{'mean_fit_time': array([0.06412659, 0.12107549, 0.06878752, 0.10117151, 0.05508318,\n",
              "        0.11682417, 0.04902808, 0.09367784]),\n",
              " 'std_fit_time': array([0.01698023, 0.02488072, 0.01200999, 0.02801626, 0.00924941,\n",
              "        0.03416579, 0.01003389, 0.02168163]),\n",
              " 'mean_score_time': array([0.01348025, 0.01290162, 0.00670715, 0.00958719, 0.00522788,\n",
              "        0.01117345, 0.00837322, 0.00901131]),\n",
              " 'std_score_time': array([0.00874494, 0.00393404, 0.00525052, 0.00521179, 0.00483702,\n",
              "        0.00521997, 0.00554527, 0.00707996]),\n",
              " 'param_max_depth': masked_array(data=[20, 20, 20, 20, 25, 25, 25, 25],\n",
              "              mask=[False, False, False, False, False, False, False, False],\n",
              "        fill_value='?',\n",
              "             dtype=object),\n",
              " 'param_min_samples_leaf': masked_array(data=[5, 5, 10, 10, 5, 5, 10, 10],\n",
              "              mask=[False, False, False, False, False, False, False, False],\n",
              "        fill_value='?',\n",
              "             dtype=object),\n",
              " 'param_n_estimators': masked_array(data=[10, 20, 10, 20, 10, 20, 10, 20],\n",
              "              mask=[False, False, False, False, False, False, False, False],\n",
              "        fill_value='?',\n",
              "             dtype=object),\n",
              " 'params': [{'max_depth': 20, 'min_samples_leaf': 5, 'n_estimators': 10},\n",
              "  {'max_depth': 20, 'min_samples_leaf': 5, 'n_estimators': 20},\n",
              "  {'max_depth': 20, 'min_samples_leaf': 10, 'n_estimators': 10},\n",
              "  {'max_depth': 20, 'min_samples_leaf': 10, 'n_estimators': 20},\n",
              "  {'max_depth': 25, 'min_samples_leaf': 5, 'n_estimators': 10},\n",
              "  {'max_depth': 25, 'min_samples_leaf': 5, 'n_estimators': 20},\n",
              "  {'max_depth': 25, 'min_samples_leaf': 10, 'n_estimators': 10},\n",
              "  {'max_depth': 25, 'min_samples_leaf': 10, 'n_estimators': 20}],\n",
              " 'split0_test_score': array([0.98415625, 0.98697394, 0.98135776, 0.98059607, 0.98040426,\n",
              "        0.98015644, 0.98727124, 0.98232256]),\n",
              " 'split1_test_score': array([0.93680247, 0.93920839, 0.94770484, 0.93832343, 0.92287358,\n",
              "        0.93631542, 0.92463376, 0.93974007]),\n",
              " 'split2_test_score': array([0.96109656, 0.94437095, 0.96340198, 0.95981822, 0.93731812,\n",
              "        0.95410595, 0.92996683, 0.96580242]),\n",
              " 'split3_test_score': array([0.87919233, 0.90557222, 0.91085698, 0.90580588, 0.89098828,\n",
              "        0.91174949, 0.9305324 , 0.91438216]),\n",
              " 'split4_test_score': array([0.9835738 , 0.97610717, 0.97769931, 0.96779208, 0.96964767,\n",
              "        0.97914016, 0.97092479, 0.9719158 ]),\n",
              " 'split5_test_score': array([0.8924517 , 0.90611243, 0.905892  , 0.91518789, 0.91103078,\n",
              "        0.90393872, 0.90388824, 0.90569283]),\n",
              " 'split6_test_score': array([0.98863383, 0.98099339, 0.9790971 , 0.98337167, 0.97773206,\n",
              "        0.98630663, 0.9791093 , 0.97660874]),\n",
              " 'split7_test_score': array([0.9541609 , 0.96213053, 0.95979981, 0.96061041, 0.95966722,\n",
              "        0.94748537, 0.96295048, 0.94766996]),\n",
              " 'split8_test_score': array([0.92468225, 0.93251566, 0.92527504, 0.92807316, 0.93840294,\n",
              "        0.928547  , 0.93932826, 0.92968836]),\n",
              " 'split9_test_score': array([0.96921859, 0.96264815, 0.95549568, 0.96306167, 0.96856724,\n",
              "        0.97326419, 0.95760903, 0.95721692]),\n",
              " 'split10_test_score': array([0.9144983 , 0.92781134, 0.92287223, 0.91422343, 0.92072535,\n",
              "        0.92532568, 0.91646819, 0.92885971]),\n",
              " 'split11_test_score': array([0.93918032, 0.93144232, 0.94582272, 0.92591289, 0.91436159,\n",
              "        0.94447898, 0.90223837, 0.93726409]),\n",
              " 'mean_test_score': array([0.94397061, 0.94632387, 0.94793962, 0.9452314 , 0.94097659,\n",
              "        0.94756784, 0.94207674, 0.9464303 ]),\n",
              " 'std_test_score': array([0.03461468, 0.02637032, 0.02533075, 0.02600535, 0.02843106,\n",
              "        0.0265231 , 0.02771299, 0.02371021]),\n",
              " 'rank_test_score': array([6, 4, 1, 5, 8, 2, 7, 3], dtype=int32)}"
            ]
          },
          "metadata": {},
          "execution_count": 145
        }
      ]
    },
    {
      "cell_type": "code",
      "source": [
        "print(\"Best score is {}\".format(clf.best_score_))\n",
        "print(\"Best parameters are {}\".format(clf.best_params_))"
      ],
      "metadata": {
        "colab": {
          "base_uri": "https://localhost:8080/"
        },
        "id": "TBXRgq6nFLRT",
        "outputId": "cba82720-2db5-4c27-b796-fc354b49c362"
      },
      "execution_count": 146,
      "outputs": [
        {
          "output_type": "stream",
          "name": "stdout",
          "text": [
            "Best score is 0.9479396192622999\n",
            "Best parameters are {'max_depth': 20, 'min_samples_leaf': 10, 'n_estimators': 10}\n"
          ]
        }
      ]
    },
    {
      "cell_type": "markdown",
      "source": [
        "##GBTRegressor"
      ],
      "metadata": {
        "id": "F2YICw64HVAe"
      }
    },
    {
      "cell_type": "code",
      "source": [
        "model_name = 'GBTRegressor' \n",
        "for key in models:\n",
        "  if model_name == key:\n",
        "    print('The model {} has been selected'.format(models[key]))"
      ],
      "metadata": {
        "colab": {
          "base_uri": "https://localhost:8080/"
        },
        "outputId": "95c4d323-006b-4973-8cfb-24faa50f6f72",
        "id": "bQGzhc35HgbI"
      },
      "execution_count": 150,
      "outputs": [
        {
          "output_type": "stream",
          "name": "stdout",
          "text": [
            "The model GradientBoostingRegressor() has been selected\n"
          ]
        }
      ]
    },
    {
      "cell_type": "code",
      "source": [
        "if model_name == 'GBTRegressor' or 'GBTClassifier':\n",
        "  model = models[model_name]\n",
        "  clf = GridSearchCV(model, GBTparams(data, model_name), n_jobs = hyp_params['parallelism'], cv = cv)"
      ],
      "metadata": {
        "id": "TB-6SF_VHgbK"
      },
      "execution_count": 151,
      "outputs": []
    },
    {
      "cell_type": "code",
      "source": [
        "X_new = reduced_features\n",
        "Y_new = Y_encoded\n",
        "clf.fit(X_new, Y_new)"
      ],
      "metadata": {
        "colab": {
          "base_uri": "https://localhost:8080/"
        },
        "outputId": "06384192-c0f5-4b27-ceae-c6035a5febb6",
        "id": "Rw2eEbcrHgbK"
      },
      "execution_count": 152,
      "outputs": [
        {
          "output_type": "stream",
          "name": "stderr",
          "text": [
            "/usr/local/lib/python3.8/dist-packages/sklearn/model_selection/_validation.py:372: FitFailedWarning: \n",
            "96 fits failed out of a total of 192.\n",
            "The score on these train-test partitions for these parameters will be set to nan.\n",
            "If these failures are not expected, you can try to debug them by setting error_score='raise'.\n",
            "\n",
            "Below are more details about the failures:\n",
            "--------------------------------------------------------------------------------\n",
            "96 fits failed with the following error:\n",
            "Traceback (most recent call last):\n",
            "  File \"/usr/local/lib/python3.8/dist-packages/sklearn/model_selection/_validation.py\", line 680, in _fit_and_score\n",
            "    estimator.fit(X_train, y_train, **fit_params)\n",
            "  File \"/usr/local/lib/python3.8/dist-packages/sklearn/ensemble/_gb.py\", line 525, in fit\n",
            "    self._check_params()\n",
            "  File \"/usr/local/lib/python3.8/dist-packages/sklearn/ensemble/_gb.py\", line 317, in _check_params\n",
            "    raise ValueError(\"subsample must be in (0,1] but was %r\" % self.subsample)\n",
            "ValueError: subsample must be in (0,1] but was 2\n",
            "\n",
            "  warnings.warn(some_fits_failed_message, FitFailedWarning)\n",
            "/usr/local/lib/python3.8/dist-packages/sklearn/model_selection/_search.py:969: UserWarning: One or more of the test scores are non-finite: [0.93832441        nan 0.93960157        nan 0.92752917        nan\n",
            " 0.94423382        nan 0.9395258         nan 0.93501328        nan\n",
            " 0.9277375         nan 0.9286085         nan]\n",
            "  warnings.warn(\n"
          ]
        },
        {
          "output_type": "execute_result",
          "data": {
            "text/plain": [
              "GridSearchCV(cv=RepeatedStratifiedKFold(n_repeats=2, n_splits=6, random_state=1),\n",
              "             estimator=GradientBoostingRegressor(), n_jobs=5,\n",
              "             param_grid={'learning_rate': [0.1, 0.5], 'max_depth': [5, 7],\n",
              "                         'n_iter_no_change': [20, 40], 'subsample': [1, 2]})"
            ]
          },
          "metadata": {},
          "execution_count": 152
        }
      ]
    },
    {
      "cell_type": "code",
      "source": [
        "clf.cv_results_"
      ],
      "metadata": {
        "colab": {
          "base_uri": "https://localhost:8080/"
        },
        "outputId": "e00fb09e-8acf-4322-8f0f-d2ba47529eda",
        "id": "VIPZknpzHgbL"
      },
      "execution_count": 153,
      "outputs": [
        {
          "output_type": "execute_result",
          "data": {
            "text/plain": [
              "{'mean_fit_time': array([0.08487833, 0.00174675, 0.1062727 , 0.00283136, 0.10243229,\n",
              "        0.00317464, 0.09528997, 0.00285594, 0.04088541, 0.00419698,\n",
              "        0.07005858, 0.00364143, 0.04781775, 0.00355287, 0.0672097 ,\n",
              "        0.00117381]),\n",
              " 'std_fit_time': array([0.03187752, 0.0018994 , 0.02289673, 0.00409155, 0.0398629 ,\n",
              "        0.00321823, 0.02813023, 0.00296949, 0.01384878, 0.00540399,\n",
              "        0.01076958, 0.00602436, 0.01228296, 0.00505846, 0.01879549,\n",
              "        0.00011501]),\n",
              " 'mean_score_time': array([0.00158546, 0.        , 0.00292885, 0.        , 0.00334648,\n",
              "        0.        , 0.00591292, 0.        , 0.00174999, 0.        ,\n",
              "        0.0039466 , 0.        , 0.00139827, 0.        , 0.00330279,\n",
              "        0.        ]),\n",
              " 'std_score_time': array([0.00202356, 0.        , 0.00380436, 0.        , 0.00435788,\n",
              "        0.        , 0.00508542, 0.        , 0.00173979, 0.        ,\n",
              "        0.00543941, 0.        , 0.00142336, 0.        , 0.00410244,\n",
              "        0.        ]),\n",
              " 'param_learning_rate': masked_array(data=[0.1, 0.1, 0.1, 0.1, 0.1, 0.1, 0.1, 0.1, 0.5, 0.5, 0.5,\n",
              "                    0.5, 0.5, 0.5, 0.5, 0.5],\n",
              "              mask=[False, False, False, False, False, False, False, False,\n",
              "                    False, False, False, False, False, False, False, False],\n",
              "        fill_value='?',\n",
              "             dtype=object),\n",
              " 'param_max_depth': masked_array(data=[5, 5, 5, 5, 7, 7, 7, 7, 5, 5, 5, 5, 7, 7, 7, 7],\n",
              "              mask=[False, False, False, False, False, False, False, False,\n",
              "                    False, False, False, False, False, False, False, False],\n",
              "        fill_value='?',\n",
              "             dtype=object),\n",
              " 'param_n_iter_no_change': masked_array(data=[20, 20, 40, 40, 20, 20, 40, 40, 20, 20, 40, 40, 20, 20,\n",
              "                    40, 40],\n",
              "              mask=[False, False, False, False, False, False, False, False,\n",
              "                    False, False, False, False, False, False, False, False],\n",
              "        fill_value='?',\n",
              "             dtype=object),\n",
              " 'param_subsample': masked_array(data=[1, 2, 1, 2, 1, 2, 1, 2, 1, 2, 1, 2, 1, 2, 1, 2],\n",
              "              mask=[False, False, False, False, False, False, False, False,\n",
              "                    False, False, False, False, False, False, False, False],\n",
              "        fill_value='?',\n",
              "             dtype=object),\n",
              " 'params': [{'learning_rate': 0.1,\n",
              "   'max_depth': 5,\n",
              "   'n_iter_no_change': 20,\n",
              "   'subsample': 1},\n",
              "  {'learning_rate': 0.1,\n",
              "   'max_depth': 5,\n",
              "   'n_iter_no_change': 20,\n",
              "   'subsample': 2},\n",
              "  {'learning_rate': 0.1,\n",
              "   'max_depth': 5,\n",
              "   'n_iter_no_change': 40,\n",
              "   'subsample': 1},\n",
              "  {'learning_rate': 0.1,\n",
              "   'max_depth': 5,\n",
              "   'n_iter_no_change': 40,\n",
              "   'subsample': 2},\n",
              "  {'learning_rate': 0.1,\n",
              "   'max_depth': 7,\n",
              "   'n_iter_no_change': 20,\n",
              "   'subsample': 1},\n",
              "  {'learning_rate': 0.1,\n",
              "   'max_depth': 7,\n",
              "   'n_iter_no_change': 20,\n",
              "   'subsample': 2},\n",
              "  {'learning_rate': 0.1,\n",
              "   'max_depth': 7,\n",
              "   'n_iter_no_change': 40,\n",
              "   'subsample': 1},\n",
              "  {'learning_rate': 0.1,\n",
              "   'max_depth': 7,\n",
              "   'n_iter_no_change': 40,\n",
              "   'subsample': 2},\n",
              "  {'learning_rate': 0.5,\n",
              "   'max_depth': 5,\n",
              "   'n_iter_no_change': 20,\n",
              "   'subsample': 1},\n",
              "  {'learning_rate': 0.5,\n",
              "   'max_depth': 5,\n",
              "   'n_iter_no_change': 20,\n",
              "   'subsample': 2},\n",
              "  {'learning_rate': 0.5,\n",
              "   'max_depth': 5,\n",
              "   'n_iter_no_change': 40,\n",
              "   'subsample': 1},\n",
              "  {'learning_rate': 0.5,\n",
              "   'max_depth': 5,\n",
              "   'n_iter_no_change': 40,\n",
              "   'subsample': 2},\n",
              "  {'learning_rate': 0.5,\n",
              "   'max_depth': 7,\n",
              "   'n_iter_no_change': 20,\n",
              "   'subsample': 1},\n",
              "  {'learning_rate': 0.5,\n",
              "   'max_depth': 7,\n",
              "   'n_iter_no_change': 20,\n",
              "   'subsample': 2},\n",
              "  {'learning_rate': 0.5,\n",
              "   'max_depth': 7,\n",
              "   'n_iter_no_change': 40,\n",
              "   'subsample': 1},\n",
              "  {'learning_rate': 0.5,\n",
              "   'max_depth': 7,\n",
              "   'n_iter_no_change': 40,\n",
              "   'subsample': 2}],\n",
              " 'split0_test_score': array([0.99853724,        nan, 0.99999996,        nan, 0.99999827,\n",
              "               nan, 0.99998854,        nan, 1.        ,        nan,\n",
              "        1.        ,        nan, 1.        ,        nan, 1.        ,\n",
              "               nan]),\n",
              " 'split1_test_score': array([0.92642375,        nan, 0.94142791,        nan, 0.92642375,\n",
              "               nan, 0.9413441 ,        nan, 0.9627995 ,        nan,\n",
              "        0.92629717,        nan, 0.92629717,        nan, 0.88207548,\n",
              "               nan]),\n",
              " 'split2_test_score': array([0.93767645,        nan, 0.93751502,        nan, 0.93509226,\n",
              "               nan, 0.93751988,        nan, 0.9375    ,        nan,\n",
              "        0.9375    ,        nan, 0.9375    ,        nan, 0.9375    ,\n",
              "               nan]),\n",
              " 'split3_test_score': array([0.87446721,        nan, 0.87499992,        nan, 0.87499266,\n",
              "               nan, 0.93748175,        nan, 0.875     ,        nan,\n",
              "        0.875     ,        nan, 0.875     ,        nan, 0.875     ,\n",
              "               nan]),\n",
              " 'split4_test_score': array([0.96655301,        nan, 0.9263073 ,        nan, 0.93353615,\n",
              "               nan, 0.98614413,        nan, 0.96065384,        nan,\n",
              "        0.96287721,        nan, 0.96215424,        nan, 0.95410163,\n",
              "               nan]),\n",
              " 'split5_test_score': array([0.88224498,        nan, 0.91753916,        nan, 0.88222824,\n",
              "               nan, 0.88233214,        nan, 0.88207547,        nan,\n",
              "        0.88207547,        nan, 0.88207548,        nan, 0.88207548,\n",
              "               nan]),\n",
              " 'split6_test_score': array([0.98021823,        nan, 0.94103791,        nan, 0.94104234,\n",
              "               nan, 0.99997331,        nan, 1.        ,        nan,\n",
              "        0.94103774,        nan, 0.94103774,        nan, 0.94103774,\n",
              "               nan]),\n",
              " 'split7_test_score': array([0.92641991,        nan, 0.94146185,        nan, 0.92782101,\n",
              "               nan, 0.92631081,        nan, 0.88207548,        nan,\n",
              "        0.92629717,        nan, 0.92629717,        nan, 0.94103774,\n",
              "               nan]),\n",
              " 'split8_test_score': array([0.94001737,        nan, 0.93784353,        nan, 0.92363487,\n",
              "               nan, 0.9375063 ,        nan, 0.93750003,        nan,\n",
              "        0.9375    ,        nan, 0.9375    ,        nan, 0.9375    ,\n",
              "               nan]),\n",
              " 'split9_test_score': array([0.92184129,        nan, 0.93747775,        nan, 0.92180395,\n",
              "               nan, 0.92187   ,        nan, 0.921875  ,        nan,\n",
              "        0.921875  ,        nan, 0.921875  ,        nan, 0.921875  ,\n",
              "               nan]),\n",
              " 'split10_test_score': array([0.93901242,        nan, 0.93849723,        nan, 0.9237384 ,\n",
              "               nan, 0.91929756,        nan, 0.94103776,        nan,\n",
              "        0.9244402 ,        nan, 0.88207547,        nan, 0.93006117,\n",
              "               nan]),\n",
              " 'split11_test_score': array([0.9664811 ,        nan, 0.98111132,        nan, 0.94003816,\n",
              "               nan, 0.94103733,        nan, 0.97379252,        nan,\n",
              "        0.98525943,        nan, 0.94103774,        nan, 0.94103773,\n",
              "               nan]),\n",
              " 'mean_test_score': array([0.93832441,        nan, 0.93960157,        nan, 0.92752917,\n",
              "               nan, 0.94423382,        nan, 0.9395258 ,        nan,\n",
              "        0.93501328,        nan, 0.9277375 ,        nan, 0.9286085 ,\n",
              "               nan]),\n",
              " 'std_test_score': array([0.03506158,        nan, 0.02919749,        nan, 0.02966482,\n",
              "               nan, 0.03341838,        nan, 0.04139568,        nan,\n",
              "        0.03465708,        nan, 0.03408395,        nan, 0.03368999,\n",
              "               nan]),\n",
              " 'rank_test_score': array([ 4,  9,  2, 10,  8, 11,  1, 12,  3, 13,  5, 14,  7, 15,  6, 16],\n",
              "       dtype=int32)}"
            ]
          },
          "metadata": {},
          "execution_count": 153
        }
      ]
    },
    {
      "cell_type": "code",
      "source": [
        "print(\"Best score is {}\".format(clf.best_score_))\n",
        "print(\"Best parameters are {}\".format(clf.best_params_))"
      ],
      "metadata": {
        "colab": {
          "base_uri": "https://localhost:8080/"
        },
        "outputId": "1689bf96-a38d-48d5-dcca-947e7b99f548",
        "id": "I1pyIU4rHgbL"
      },
      "execution_count": 154,
      "outputs": [
        {
          "output_type": "stream",
          "name": "stdout",
          "text": [
            "Best score is 0.9442338216186107\n",
            "Best parameters are {'learning_rate': 0.1, 'max_depth': 7, 'n_iter_no_change': 40, 'subsample': 1}\n"
          ]
        }
      ]
    },
    {
      "cell_type": "markdown",
      "source": [
        "##LinearRegression"
      ],
      "metadata": {
        "id": "JOWUmF5bJeeB"
      }
    },
    {
      "cell_type": "code",
      "source": [
        "model_name = 'LinearRegression' \n",
        "for key in models:\n",
        "  if model_name == key:\n",
        "    print('The model {} has been selected'.format(models[key]))"
      ],
      "metadata": {
        "colab": {
          "base_uri": "https://localhost:8080/"
        },
        "outputId": "de8294a8-f45f-4955-8770-a9edc1a7c51a",
        "id": "jLPyvSbBJhC4"
      },
      "execution_count": 162,
      "outputs": [
        {
          "output_type": "stream",
          "name": "stdout",
          "text": [
            "The model LinearRegression() has been selected\n"
          ]
        }
      ]
    },
    {
      "cell_type": "code",
      "source": [
        "if model_name == 'LinearRegression':\n",
        "  model = models[model_name]\n",
        "  LRprmts = data['design_state_data']['algorithms'][model_name]\n",
        "  params = {'n_jobs': [LRprmts['parallelism'],hyp_params['parallelism']]}\n",
        "  clf = GridSearchCV(model, params, cv = cv)"
      ],
      "metadata": {
        "id": "cTi-ZI8QJhC7"
      },
      "execution_count": 164,
      "outputs": []
    },
    {
      "cell_type": "code",
      "source": [
        "X_new = reduced_features\n",
        "Y_new = Y_encoded\n",
        "clf.fit(X_new, Y_new)"
      ],
      "metadata": {
        "colab": {
          "base_uri": "https://localhost:8080/"
        },
        "outputId": "f4416078-4629-4092-ac2d-8b76bcc2fafb",
        "id": "8DMRTpg8JhC8"
      },
      "execution_count": 165,
      "outputs": [
        {
          "output_type": "execute_result",
          "data": {
            "text/plain": [
              "GridSearchCV(cv=RepeatedStratifiedKFold(n_repeats=2, n_splits=6, random_state=1),\n",
              "             estimator=LinearRegression(), param_grid={'n_jobs': [2, 5]})"
            ]
          },
          "metadata": {},
          "execution_count": 165
        }
      ]
    },
    {
      "cell_type": "code",
      "source": [
        "clf.cv_results_"
      ],
      "metadata": {
        "colab": {
          "base_uri": "https://localhost:8080/"
        },
        "outputId": "f0a5a210-c561-40e0-d812-6b70afb82597",
        "id": "B9IlB3pyJhC8"
      },
      "execution_count": 166,
      "outputs": [
        {
          "output_type": "execute_result",
          "data": {
            "text/plain": [
              "{'mean_fit_time': array([0.00288409, 0.00059454]),\n",
              " 'std_fit_time': array([7.47127378e-03, 8.13884540e-05]),\n",
              " 'mean_score_time': array([0.00057358, 0.00035894]),\n",
              " 'std_score_time': array([7.41447411e-04, 3.87285890e-05]),\n",
              " 'param_n_jobs': masked_array(data=[2, 5],\n",
              "              mask=[False, False],\n",
              "        fill_value='?',\n",
              "             dtype=object),\n",
              " 'params': [{'n_jobs': 2}, {'n_jobs': 5}],\n",
              " 'split0_test_score': array([0.94835887, 0.94835887]),\n",
              " 'split1_test_score': array([0.92509356, 0.92509356]),\n",
              " 'split2_test_score': array([0.93433085, 0.93433085]),\n",
              " 'split3_test_score': array([0.89722349, 0.89722349]),\n",
              " 'split4_test_score': array([0.93323749, 0.93323749]),\n",
              " 'split5_test_score': array([0.90589291, 0.90589291]),\n",
              " 'split6_test_score': array([0.95007922, 0.95007922]),\n",
              " 'split7_test_score': array([0.92092985, 0.92092985]),\n",
              " 'split8_test_score': array([0.9235643, 0.9235643]),\n",
              " 'split9_test_score': array([0.94013407, 0.94013407]),\n",
              " 'split10_test_score': array([0.90739558, 0.90739558]),\n",
              " 'split11_test_score': array([0.89933452, 0.89933452]),\n",
              " 'mean_test_score': array([0.92379789, 0.92379789]),\n",
              " 'std_test_score': array([0.01747643, 0.01747643]),\n",
              " 'rank_test_score': array([1, 1], dtype=int32)}"
            ]
          },
          "metadata": {},
          "execution_count": 166
        }
      ]
    },
    {
      "cell_type": "code",
      "source": [
        "print(\"Best score is {}\".format(clf.best_score_))\n",
        "print(\"Best parameters are {}\".format(clf.best_params_))"
      ],
      "metadata": {
        "colab": {
          "base_uri": "https://localhost:8080/"
        },
        "outputId": "d4afceaa-07b4-4476-b864-fe15a65f1706",
        "id": "JuZtPfwlJhC9"
      },
      "execution_count": 167,
      "outputs": [
        {
          "output_type": "stream",
          "name": "stdout",
          "text": [
            "Best score is 0.9237978929792084\n",
            "Best parameters are {'n_jobs': 2}\n"
          ]
        }
      ]
    },
    {
      "cell_type": "markdown",
      "source": [
        "##Ridge Regression"
      ],
      "metadata": {
        "id": "-tieMCs-M0YI"
      }
    },
    {
      "cell_type": "code",
      "source": [
        "model_name = 'RidgeRegression' \n",
        "for key in models:\n",
        "  if model_name == key:\n",
        "    print('The model {} has been selected'.format(models[key]))"
      ],
      "metadata": {
        "colab": {
          "base_uri": "https://localhost:8080/"
        },
        "outputId": "9bad6ebc-358d-4b18-d7bb-d461e5756dc9",
        "id": "mnKYGgx1NDoZ"
      },
      "execution_count": 168,
      "outputs": [
        {
          "output_type": "stream",
          "name": "stdout",
          "text": [
            "The model Ridge() has been selected\n"
          ]
        }
      ]
    },
    {
      "cell_type": "code",
      "source": [
        "if model_name == 'RidgeRegression' or 'LassoRegression' or 'ElasticNetRegression':\n",
        "  model = models[model_name]\n",
        "  clf = GridSearchCV(model, Rid_Laso_ENetparams(data, model_name), n_jobs = hyp_params['parallelism'], cv = cv)\n"
      ],
      "metadata": {
        "id": "tNF3XxOfNDoh"
      },
      "execution_count": 170,
      "outputs": []
    },
    {
      "cell_type": "code",
      "source": [
        "X_new = reduced_features\n",
        "Y_new = Y_encoded\n",
        "clf.fit(X_new, Y_new)"
      ],
      "metadata": {
        "colab": {
          "base_uri": "https://localhost:8080/"
        },
        "outputId": "0e4706fd-b444-438c-edf0-2e03c0884778",
        "id": "evad_t16NDoi"
      },
      "execution_count": 171,
      "outputs": [
        {
          "output_type": "execute_result",
          "data": {
            "text/plain": [
              "GridSearchCV(cv=RepeatedStratifiedKFold(n_repeats=2, n_splits=6, random_state=1),\n",
              "             estimator=Ridge(), n_jobs=5,\n",
              "             param_grid={'alpha': [0.5, 0.8], 'max_iter': [30, 50]})"
            ]
          },
          "metadata": {},
          "execution_count": 171
        }
      ]
    },
    {
      "cell_type": "code",
      "source": [
        "clf.cv_results_"
      ],
      "metadata": {
        "colab": {
          "base_uri": "https://localhost:8080/"
        },
        "outputId": "122f1430-aad9-4dbb-e93b-b5f965711e6e",
        "id": "yqRkVEztNDoi"
      },
      "execution_count": 172,
      "outputs": [
        {
          "output_type": "execute_result",
          "data": {
            "text/plain": [
              "{'mean_fit_time': array([0.0020563 , 0.00253419, 0.00478288, 0.00116547]),\n",
              " 'std_fit_time': array([0.00207605, 0.00341435, 0.00626494, 0.0001409 ]),\n",
              " 'mean_score_time': array([0.00071804, 0.00298045, 0.00179402, 0.00350247]),\n",
              " 'std_score_time': array([0.00032462, 0.00380174, 0.00280238, 0.00503971]),\n",
              " 'param_alpha': masked_array(data=[0.5, 0.5, 0.8, 0.8],\n",
              "              mask=[False, False, False, False],\n",
              "        fill_value='?',\n",
              "             dtype=object),\n",
              " 'param_max_iter': masked_array(data=[30, 50, 30, 50],\n",
              "              mask=[False, False, False, False],\n",
              "        fill_value='?',\n",
              "             dtype=object),\n",
              " 'params': [{'alpha': 0.5, 'max_iter': 30},\n",
              "  {'alpha': 0.5, 'max_iter': 50},\n",
              "  {'alpha': 0.8, 'max_iter': 30},\n",
              "  {'alpha': 0.8, 'max_iter': 50}],\n",
              " 'split0_test_score': array([0.94688091, 0.94688091, 0.94601677, 0.94601677]),\n",
              " 'split1_test_score': array([0.9259236 , 0.9259236 , 0.92622704, 0.92622704]),\n",
              " 'split2_test_score': array([0.9328643 , 0.9328643 , 0.93204962, 0.93204962]),\n",
              " 'split3_test_score': array([0.89934549, 0.89934549, 0.90027423, 0.90027423]),\n",
              " 'split4_test_score': array([0.93342925, 0.93342925, 0.93341834, 0.93341834]),\n",
              " 'split5_test_score': array([0.90571026, 0.90571026, 0.90548945, 0.90548945]),\n",
              " 'split6_test_score': array([0.95161283, 0.95161283, 0.95220654, 0.95220654]),\n",
              " 'split7_test_score': array([0.92146938, 0.92146938, 0.92167781, 0.92167781]),\n",
              " 'split8_test_score': array([0.92195226, 0.92195226, 0.92098974, 0.92098974]),\n",
              " 'split9_test_score': array([0.94048255, 0.94048255, 0.94053374, 0.94053374]),\n",
              " 'split10_test_score': array([0.90783681, 0.90783681, 0.90792819, 0.90792819]),\n",
              " 'split11_test_score': array([0.89792443, 0.89792443, 0.89714683, 0.89714683]),\n",
              " 'mean_test_score': array([0.92378601, 0.92378601, 0.92366319, 0.92366319]),\n",
              " 'std_test_score': array([0.01737445, 0.01737445, 0.01734506, 0.01734506]),\n",
              " 'rank_test_score': array([1, 1, 3, 3], dtype=int32)}"
            ]
          },
          "metadata": {},
          "execution_count": 172
        }
      ]
    },
    {
      "cell_type": "code",
      "source": [
        "print(\"Best score is {}\".format(clf.best_score_))\n",
        "print(\"Best parameters are {}\".format(clf.best_params_))"
      ],
      "metadata": {
        "colab": {
          "base_uri": "https://localhost:8080/"
        },
        "outputId": "8102114a-b8fa-40ae-c9c2-91e56801a13c",
        "id": "NXgJ_IFbNDoj"
      },
      "execution_count": 173,
      "outputs": [
        {
          "output_type": "stream",
          "name": "stdout",
          "text": [
            "Best score is 0.9237860057774075\n",
            "Best parameters are {'alpha': 0.5, 'max_iter': 30}\n"
          ]
        }
      ]
    },
    {
      "cell_type": "markdown",
      "source": [
        "##Lasso"
      ],
      "metadata": {
        "id": "0uJ1UiYTNEja"
      }
    },
    {
      "cell_type": "code",
      "source": [
        "model_name = 'LassoRegression' \n",
        "for key in models:\n",
        "  if model_name == key:\n",
        "    print('The model {} has been selected'.format(models[key]))"
      ],
      "metadata": {
        "colab": {
          "base_uri": "https://localhost:8080/"
        },
        "outputId": "733b496e-043d-4a9b-fe6c-9f2ce47c8ab9",
        "id": "ritqqkL7NGJw"
      },
      "execution_count": 174,
      "outputs": [
        {
          "output_type": "stream",
          "name": "stdout",
          "text": [
            "The model Lasso() has been selected\n"
          ]
        }
      ]
    },
    {
      "cell_type": "code",
      "source": [
        "if model_name == 'RidgeRegression' or 'LassoRegression' or 'ElasticNetRegression':\n",
        "  model = models[model_name]\n",
        "  clf = GridSearchCV(model, Rid_Laso_ENetparams(data, model_name), n_jobs = hyp_params['parallelism'], cv = cv)"
      ],
      "metadata": {
        "id": "MWegxwzTNGJx"
      },
      "execution_count": 176,
      "outputs": []
    },
    {
      "cell_type": "code",
      "source": [
        "X_new = reduced_features\n",
        "Y_new = Y_encoded\n",
        "clf.fit(X_new, Y_new)"
      ],
      "metadata": {
        "colab": {
          "base_uri": "https://localhost:8080/"
        },
        "outputId": "bc75eedd-bff9-4564-b52c-549252878563",
        "id": "oUtzw5S6NGJy"
      },
      "execution_count": 177,
      "outputs": [
        {
          "output_type": "execute_result",
          "data": {
            "text/plain": [
              "GridSearchCV(cv=RepeatedStratifiedKFold(n_repeats=2, n_splits=6, random_state=1),\n",
              "             estimator=Lasso(), n_jobs=5,\n",
              "             param_grid={'alpha': [0.5, 0.8], 'max_iter': [30, 50]})"
            ]
          },
          "metadata": {},
          "execution_count": 177
        }
      ]
    },
    {
      "cell_type": "code",
      "source": [
        "clf.cv_results_"
      ],
      "metadata": {
        "colab": {
          "base_uri": "https://localhost:8080/"
        },
        "outputId": "8f6e30ff-b0cc-4a02-9659-2b7703bc2cc4",
        "id": "sSy_CkTGNGJz"
      },
      "execution_count": 178,
      "outputs": [
        {
          "output_type": "execute_result",
          "data": {
            "text/plain": [
              "{'mean_fit_time': array([0.00459117, 0.0011586 , 0.00213784, 0.00129463]),\n",
              " 'std_fit_time': array([0.00478719, 0.00029212, 0.00210917, 0.00023525]),\n",
              " 'mean_score_time': array([0.0010099 , 0.00063829, 0.00070111, 0.00072865]),\n",
              " 'std_score_time': array([7.63222087e-04, 9.75486945e-05, 9.38234583e-05, 1.63932520e-04]),\n",
              " 'param_alpha': masked_array(data=[0.5, 0.5, 0.8, 0.8],\n",
              "              mask=[False, False, False, False],\n",
              "        fill_value='?',\n",
              "             dtype=object),\n",
              " 'param_max_iter': masked_array(data=[30, 50, 30, 50],\n",
              "              mask=[False, False, False, False],\n",
              "        fill_value='?',\n",
              "             dtype=object),\n",
              " 'params': [{'alpha': 0.5, 'max_iter': 30},\n",
              "  {'alpha': 0.5, 'max_iter': 50},\n",
              "  {'alpha': 0.8, 'max_iter': 30},\n",
              "  {'alpha': 0.8, 'max_iter': 50}],\n",
              " 'split0_test_score': array([0.77525223, 0.77525223, 0.58337983, 0.58337983]),\n",
              " 'split1_test_score': array([0.77006375, 0.77006375, 0.57725948, 0.57725948]),\n",
              " 'split2_test_score': array([0.78452998, 0.78452998, 0.59856807, 0.59856807]),\n",
              " 'split3_test_score': array([0.77422116, 0.77422116, 0.58971887, 0.58971887]),\n",
              " 'split4_test_score': array([0.8109842 , 0.8109842 , 0.61307592, 0.61307592]),\n",
              " 'split5_test_score': array([0.75736663, 0.75736663, 0.57276634, 0.57276634]),\n",
              " 'split6_test_score': array([0.80550409, 0.80550409, 0.60386539, 0.60386539]),\n",
              " 'split7_test_score': array([0.7697055, 0.7697055, 0.5765699, 0.5765699]),\n",
              " 'split8_test_score': array([0.74285286, 0.74285286, 0.56546752, 0.56546752]),\n",
              " 'split9_test_score': array([0.80384129, 0.80384129, 0.61139497, 0.61139497]),\n",
              " 'split10_test_score': array([0.80119375, 0.80119375, 0.60990632, 0.60990632]),\n",
              " 'split11_test_score': array([0.7490807 , 0.7490807 , 0.56781476, 0.56781476]),\n",
              " 'mean_test_score': array([0.77871634, 0.77871634, 0.58914895, 0.58914895]),\n",
              " 'std_test_score': array([0.02186632, 0.02186632, 0.01688464, 0.01688464]),\n",
              " 'rank_test_score': array([1, 1, 3, 3], dtype=int32)}"
            ]
          },
          "metadata": {},
          "execution_count": 178
        }
      ]
    },
    {
      "cell_type": "code",
      "source": [
        "print(\"Best score is {}\".format(clf.best_score_))\n",
        "print(\"Best parameters are {}\".format(clf.best_params_))"
      ],
      "metadata": {
        "colab": {
          "base_uri": "https://localhost:8080/"
        },
        "outputId": "ad623a5d-b2db-4abe-e118-69be04a456c0",
        "id": "uAuXyh7iNGJz"
      },
      "execution_count": 179,
      "outputs": [
        {
          "output_type": "stream",
          "name": "stdout",
          "text": [
            "Best score is 0.7787163441585195\n",
            "Best parameters are {'alpha': 0.5, 'max_iter': 30}\n"
          ]
        }
      ]
    },
    {
      "cell_type": "markdown",
      "source": [
        "##Elastic"
      ],
      "metadata": {
        "id": "SAdhY_goNIGg"
      }
    },
    {
      "cell_type": "code",
      "source": [
        "model_name = 'ElasticNetRegression' \n",
        "for key in models:\n",
        "  if model_name == key:\n",
        "    print('The model {} has been selected'.format(models[key]))"
      ],
      "metadata": {
        "colab": {
          "base_uri": "https://localhost:8080/"
        },
        "outputId": "328d03b6-2fe1-4187-af21-a7c6f38e081b",
        "id": "1hzJrpTiNP_E"
      },
      "execution_count": 180,
      "outputs": [
        {
          "output_type": "stream",
          "name": "stdout",
          "text": [
            "The model ElasticNet() has been selected\n"
          ]
        }
      ]
    },
    {
      "cell_type": "code",
      "source": [
        "if model_name == 'RidgeRegression' or 'LassoRegression' or 'ElasticNetRegression':\n",
        "  model = models[model_name]\n",
        "  clf = GridSearchCV(model, Rid_Laso_ENetparams(data, model_name), n_jobs = hyp_params['parallelism'], cv = cv)"
      ],
      "metadata": {
        "id": "pPWbglzWNP_J"
      },
      "execution_count": 181,
      "outputs": []
    },
    {
      "cell_type": "code",
      "source": [
        "X_new = reduced_features\n",
        "Y_new = Y_encoded\n",
        "clf.fit(X_new, Y_new)"
      ],
      "metadata": {
        "colab": {
          "base_uri": "https://localhost:8080/"
        },
        "outputId": "105fe9a4-8041-4cee-8e51-9eae3eef78ba",
        "id": "CA0lkxsCNP_J"
      },
      "execution_count": 182,
      "outputs": [
        {
          "output_type": "execute_result",
          "data": {
            "text/plain": [
              "GridSearchCV(cv=RepeatedStratifiedKFold(n_repeats=2, n_splits=6, random_state=1),\n",
              "             estimator=ElasticNet(), n_jobs=5,\n",
              "             param_grid={'alpha': [0.5, 0.8], 'max_iter': [30, 50]})"
            ]
          },
          "metadata": {},
          "execution_count": 182
        }
      ]
    },
    {
      "cell_type": "code",
      "source": [
        "clf.cv_results_"
      ],
      "metadata": {
        "colab": {
          "base_uri": "https://localhost:8080/"
        },
        "outputId": "88dc5792-4ec6-4c9e-c39c-199321f06ad0",
        "id": "squI8mifNP_J"
      },
      "execution_count": 183,
      "outputs": [
        {
          "output_type": "execute_result",
          "data": {
            "text/plain": [
              "{'mean_fit_time': array([0.00224199, 0.00371265, 0.00195007, 0.00120366]),\n",
              " 'std_fit_time': array([0.00204255, 0.0029561 , 0.0017252 , 0.00016654]),\n",
              " 'mean_score_time': array([0.00320995, 0.00142572, 0.00147825, 0.00082115]),\n",
              " 'std_score_time': array([0.0043803 , 0.00251924, 0.00185376, 0.00042943]),\n",
              " 'param_alpha': masked_array(data=[0.5, 0.5, 0.8, 0.8],\n",
              "              mask=[False, False, False, False],\n",
              "        fill_value='?',\n",
              "             dtype=object),\n",
              " 'param_max_iter': masked_array(data=[30, 50, 30, 50],\n",
              "              mask=[False, False, False, False],\n",
              "        fill_value='?',\n",
              "             dtype=object),\n",
              " 'params': [{'alpha': 0.5, 'max_iter': 30},\n",
              "  {'alpha': 0.5, 'max_iter': 50},\n",
              "  {'alpha': 0.8, 'max_iter': 30},\n",
              "  {'alpha': 0.8, 'max_iter': 50}],\n",
              " 'split0_test_score': array([0.84491795, 0.84491795, 0.77030829, 0.77030829]),\n",
              " 'split1_test_score': array([0.84262701, 0.84262701, 0.76517238, 0.76517238]),\n",
              " 'split2_test_score': array([0.84956123, 0.84956123, 0.77935063, 0.77935063]),\n",
              " 'split3_test_score': array([0.84057232, 0.84057232, 0.76906882, 0.76906882]),\n",
              " 'split4_test_score': array([0.87590326, 0.87590326, 0.8059064 , 0.8059064 ]),\n",
              " 'split5_test_score': array([0.82365233, 0.82365233, 0.75243907, 0.75243907]),\n",
              " 'split6_test_score': array([0.87730881, 0.87730881, 0.80051787, 0.80051787]),\n",
              " 'split7_test_score': array([0.84283199, 0.84283199, 0.76483418, 0.76483418]),\n",
              " 'split8_test_score': array([0.80958418, 0.80958418, 0.73777793, 0.73777793]),\n",
              " 'split9_test_score': array([0.87087404, 0.87087404, 0.79861364, 0.79861364]),\n",
              " 'split10_test_score': array([0.86117812, 0.86117812, 0.79615154, 0.79615154]),\n",
              " 'split11_test_score': array([0.81388299, 0.81388299, 0.74416746, 0.74416746]),\n",
              " 'mean_test_score': array([0.84607452, 0.84607452, 0.77369235, 0.77369235]),\n",
              " 'std_test_score': array([0.02168954, 0.02168954, 0.02181744, 0.02181744]),\n",
              " 'rank_test_score': array([1, 1, 3, 3], dtype=int32)}"
            ]
          },
          "metadata": {},
          "execution_count": 183
        }
      ]
    },
    {
      "cell_type": "code",
      "source": [
        "print(\"Best score is {}\".format(clf.best_score_))\n",
        "print(\"Best parameters are {}\".format(clf.best_params_))"
      ],
      "metadata": {
        "colab": {
          "base_uri": "https://localhost:8080/"
        },
        "outputId": "36f02336-a7d5-4afa-881c-8996da741a01",
        "id": "Kjs-ujBXNP_K"
      },
      "execution_count": 184,
      "outputs": [
        {
          "output_type": "stream",
          "name": "stdout",
          "text": [
            "Best score is 0.846074517921123\n",
            "Best parameters are {'alpha': 0.5, 'max_iter': 30}\n"
          ]
        }
      ]
    },
    {
      "cell_type": "markdown",
      "source": [
        "##xgboost"
      ],
      "metadata": {
        "id": "ow-vF8gyNQ8q"
      }
    },
    {
      "cell_type": "code",
      "source": [
        "model_name = 'xg_boost' \n",
        "for key in models:\n",
        "  if model_name == key:\n",
        "    print('The model {} has been selected'.format(models[key]))"
      ],
      "metadata": {
        "colab": {
          "base_uri": "https://localhost:8080/"
        },
        "outputId": "561112f8-9519-4a04-dc20-e22708751994",
        "id": "NbqLQ2SbNT3f"
      },
      "execution_count": 185,
      "outputs": [
        {
          "output_type": "stream",
          "name": "stdout",
          "text": [
            "The model XGBRegressor() has been selected\n"
          ]
        }
      ]
    },
    {
      "cell_type": "code",
      "source": [
        "if model_name == 'xg_boost':\n",
        "  xgbparams = data['design_state_data']['algorithms'][model_name]\n",
        "  early_stopping_rounds = xgbparams['early_stopping_rounds']\n",
        "  reg_alpha = xgbparams['l1_regularization']\n",
        "  reg_lambda = xgbparams['l2_regularization']\n",
        "  gamma = xgbparams['gamma']\n",
        "  min_child_weight = xgbparams['min_child_weight']\n",
        "  subsample = xgbparams['sub_sample']\n",
        "  colsample_bytree = xgbparams['col_sample_by_tree']\n",
        "  model = XGBRegressor(early_stopping_rounds = early_stopping_rounds, reg_alpha = reg_alpha, reg_lambda = reg_lambda, gamma = gamma, \n",
        "                min_child_weight = min_child_weight, subsample = subsample, colsample_bytree = colsample_bytree)\n",
        "  clf = GridSearchCV(model, xgboost(data, model_name), n_jobs = hyp_params['parallelism'], cv = cv)"
      ],
      "metadata": {
        "id": "ccCHNlLeNT3i"
      },
      "execution_count": 187,
      "outputs": []
    },
    {
      "cell_type": "code",
      "source": [
        "X_new = reduced_features\n",
        "Y_new = Y_encoded\n",
        "clf.fit(X_new, Y_new) ##error due to inputs provided in json"
      ],
      "metadata": {
        "colab": {
          "base_uri": "https://localhost:8080/",
          "height": 800
        },
        "outputId": "693f769b-e2ab-4d43-e3c1-6fc93bb3daa2",
        "id": "U9-JsWw9NT3i"
      },
      "execution_count": 188,
      "outputs": [
        {
          "output_type": "stream",
          "name": "stderr",
          "text": [
            "/usr/local/lib/python3.8/dist-packages/sklearn/model_selection/_validation.py:372: FitFailedWarning: \n",
            "24 fits failed out of a total of 24.\n",
            "The score on these train-test partitions for these parameters will be set to nan.\n",
            "If these failures are not expected, you can try to debug them by setting error_score='raise'.\n",
            "\n",
            "Below are more details about the failures:\n",
            "--------------------------------------------------------------------------------\n",
            "24 fits failed with the following error:\n",
            "Traceback (most recent call last):\n",
            "  File \"/usr/local/lib/python3.8/dist-packages/sklearn/model_selection/_validation.py\", line 680, in _fit_and_score\n",
            "    estimator.fit(X_train, y_train, **fit_params)\n",
            "  File \"/usr/local/lib/python3.8/dist-packages/xgboost/sklearn.py\", line 391, in fit\n",
            "    self._Booster = train(params, trainDmatrix,\n",
            "  File \"/usr/local/lib/python3.8/dist-packages/xgboost/training.py\", line 212, in train\n",
            "    return _train_internal(params, dtrain,\n",
            "  File \"/usr/local/lib/python3.8/dist-packages/xgboost/training.py\", line 74, in _train_internal\n",
            "    bst.update(dtrain, i, obj)\n",
            "  File \"/usr/local/lib/python3.8/dist-packages/xgboost/core.py\", line 1108, in update\n",
            "    _check_call(_LIB.XGBoosterUpdateOneIter(self.handle, ctypes.c_int(iteration),\n",
            "  File \"/usr/local/lib/python3.8/dist-packages/xgboost/core.py\", line 176, in _check_call\n",
            "    raise XGBoostError(py_str(_LIB.XGBGetLastError()))\n",
            "xgboost.core.XGBoostError: Invalid Parameter format for colsample_bytree expect float but value='[67]'\n",
            "\n",
            "  warnings.warn(some_fits_failed_message, FitFailedWarning)\n",
            "/usr/local/lib/python3.8/dist-packages/sklearn/model_selection/_search.py:969: UserWarning: One or more of the test scores are non-finite: [nan nan]\n",
            "  warnings.warn(\n"
          ]
        },
        {
          "output_type": "stream",
          "name": "stdout",
          "text": [
            "[16:05:10] WARNING: /workspace/src/objective/regression_obj.cu:152: reg:linear is now deprecated in favor of reg:squarederror.\n"
          ]
        },
        {
          "output_type": "error",
          "ename": "XGBoostError",
          "evalue": "ignored",
          "traceback": [
            "\u001b[0;31m---------------------------------------------------------------------------\u001b[0m",
            "\u001b[0;31mXGBoostError\u001b[0m                              Traceback (most recent call last)",
            "\u001b[0;32m<ipython-input-188-ac407a4fcedd>\u001b[0m in \u001b[0;36m<module>\u001b[0;34m\u001b[0m\n\u001b[1;32m      1\u001b[0m \u001b[0mX_new\u001b[0m \u001b[0;34m=\u001b[0m \u001b[0mreduced_features\u001b[0m\u001b[0;34m\u001b[0m\u001b[0;34m\u001b[0m\u001b[0m\n\u001b[1;32m      2\u001b[0m \u001b[0mY_new\u001b[0m \u001b[0;34m=\u001b[0m \u001b[0mY_encoded\u001b[0m\u001b[0;34m\u001b[0m\u001b[0;34m\u001b[0m\u001b[0m\n\u001b[0;32m----> 3\u001b[0;31m \u001b[0mclf\u001b[0m\u001b[0;34m.\u001b[0m\u001b[0mfit\u001b[0m\u001b[0;34m(\u001b[0m\u001b[0mX_new\u001b[0m\u001b[0;34m,\u001b[0m \u001b[0mY_new\u001b[0m\u001b[0;34m)\u001b[0m\u001b[0;34m\u001b[0m\u001b[0;34m\u001b[0m\u001b[0m\n\u001b[0m",
            "\u001b[0;32m/usr/local/lib/python3.8/dist-packages/sklearn/model_selection/_search.py\u001b[0m in \u001b[0;36mfit\u001b[0;34m(self, X, y, groups, **fit_params)\u001b[0m\n\u001b[1;32m    924\u001b[0m             \u001b[0mrefit_start_time\u001b[0m \u001b[0;34m=\u001b[0m \u001b[0mtime\u001b[0m\u001b[0;34m.\u001b[0m\u001b[0mtime\u001b[0m\u001b[0;34m(\u001b[0m\u001b[0;34m)\u001b[0m\u001b[0;34m\u001b[0m\u001b[0;34m\u001b[0m\u001b[0m\n\u001b[1;32m    925\u001b[0m             \u001b[0;32mif\u001b[0m \u001b[0my\u001b[0m \u001b[0;32mis\u001b[0m \u001b[0;32mnot\u001b[0m \u001b[0;32mNone\u001b[0m\u001b[0;34m:\u001b[0m\u001b[0;34m\u001b[0m\u001b[0;34m\u001b[0m\u001b[0m\n\u001b[0;32m--> 926\u001b[0;31m                 \u001b[0mself\u001b[0m\u001b[0;34m.\u001b[0m\u001b[0mbest_estimator_\u001b[0m\u001b[0;34m.\u001b[0m\u001b[0mfit\u001b[0m\u001b[0;34m(\u001b[0m\u001b[0mX\u001b[0m\u001b[0;34m,\u001b[0m \u001b[0my\u001b[0m\u001b[0;34m,\u001b[0m \u001b[0;34m**\u001b[0m\u001b[0mfit_params\u001b[0m\u001b[0;34m)\u001b[0m\u001b[0;34m\u001b[0m\u001b[0;34m\u001b[0m\u001b[0m\n\u001b[0m\u001b[1;32m    927\u001b[0m             \u001b[0;32melse\u001b[0m\u001b[0;34m:\u001b[0m\u001b[0;34m\u001b[0m\u001b[0;34m\u001b[0m\u001b[0m\n\u001b[1;32m    928\u001b[0m                 \u001b[0mself\u001b[0m\u001b[0;34m.\u001b[0m\u001b[0mbest_estimator_\u001b[0m\u001b[0;34m.\u001b[0m\u001b[0mfit\u001b[0m\u001b[0;34m(\u001b[0m\u001b[0mX\u001b[0m\u001b[0;34m,\u001b[0m \u001b[0;34m**\u001b[0m\u001b[0mfit_params\u001b[0m\u001b[0;34m)\u001b[0m\u001b[0;34m\u001b[0m\u001b[0;34m\u001b[0m\u001b[0m\n",
            "\u001b[0;32m/usr/local/lib/python3.8/dist-packages/xgboost/sklearn.py\u001b[0m in \u001b[0;36mfit\u001b[0;34m(self, X, y, sample_weight, eval_set, eval_metric, early_stopping_rounds, verbose, xgb_model, sample_weight_eval_set, callbacks)\u001b[0m\n\u001b[1;32m    389\u001b[0m                 \u001b[0mparams\u001b[0m\u001b[0;34m.\u001b[0m\u001b[0mupdate\u001b[0m\u001b[0;34m(\u001b[0m\u001b[0;34m{\u001b[0m\u001b[0;34m'eval_metric'\u001b[0m\u001b[0;34m:\u001b[0m \u001b[0meval_metric\u001b[0m\u001b[0;34m}\u001b[0m\u001b[0;34m)\u001b[0m\u001b[0;34m\u001b[0m\u001b[0;34m\u001b[0m\u001b[0m\n\u001b[1;32m    390\u001b[0m \u001b[0;34m\u001b[0m\u001b[0m\n\u001b[0;32m--> 391\u001b[0;31m         self._Booster = train(params, trainDmatrix,\n\u001b[0m\u001b[1;32m    392\u001b[0m                               \u001b[0mself\u001b[0m\u001b[0;34m.\u001b[0m\u001b[0mget_num_boosting_rounds\u001b[0m\u001b[0;34m(\u001b[0m\u001b[0;34m)\u001b[0m\u001b[0;34m,\u001b[0m \u001b[0mevals\u001b[0m\u001b[0;34m=\u001b[0m\u001b[0mevals\u001b[0m\u001b[0;34m,\u001b[0m\u001b[0;34m\u001b[0m\u001b[0;34m\u001b[0m\u001b[0m\n\u001b[1;32m    393\u001b[0m                               \u001b[0mearly_stopping_rounds\u001b[0m\u001b[0;34m=\u001b[0m\u001b[0mearly_stopping_rounds\u001b[0m\u001b[0;34m,\u001b[0m\u001b[0;34m\u001b[0m\u001b[0;34m\u001b[0m\u001b[0m\n",
            "\u001b[0;32m/usr/local/lib/python3.8/dist-packages/xgboost/training.py\u001b[0m in \u001b[0;36mtrain\u001b[0;34m(params, dtrain, num_boost_round, evals, obj, feval, maximize, early_stopping_rounds, evals_result, verbose_eval, xgb_model, callbacks, learning_rates)\u001b[0m\n\u001b[1;32m    210\u001b[0m         \u001b[0mcallbacks\u001b[0m\u001b[0;34m.\u001b[0m\u001b[0mappend\u001b[0m\u001b[0;34m(\u001b[0m\u001b[0mcallback\u001b[0m\u001b[0;34m.\u001b[0m\u001b[0mreset_learning_rate\u001b[0m\u001b[0;34m(\u001b[0m\u001b[0mlearning_rates\u001b[0m\u001b[0;34m)\u001b[0m\u001b[0;34m)\u001b[0m\u001b[0;34m\u001b[0m\u001b[0;34m\u001b[0m\u001b[0m\n\u001b[1;32m    211\u001b[0m \u001b[0;34m\u001b[0m\u001b[0m\n\u001b[0;32m--> 212\u001b[0;31m     return _train_internal(params, dtrain,\n\u001b[0m\u001b[1;32m    213\u001b[0m                            \u001b[0mnum_boost_round\u001b[0m\u001b[0;34m=\u001b[0m\u001b[0mnum_boost_round\u001b[0m\u001b[0;34m,\u001b[0m\u001b[0;34m\u001b[0m\u001b[0;34m\u001b[0m\u001b[0m\n\u001b[1;32m    214\u001b[0m                            \u001b[0mevals\u001b[0m\u001b[0;34m=\u001b[0m\u001b[0mevals\u001b[0m\u001b[0;34m,\u001b[0m\u001b[0;34m\u001b[0m\u001b[0;34m\u001b[0m\u001b[0m\n",
            "\u001b[0;32m/usr/local/lib/python3.8/dist-packages/xgboost/training.py\u001b[0m in \u001b[0;36m_train_internal\u001b[0;34m(params, dtrain, num_boost_round, evals, obj, feval, xgb_model, callbacks)\u001b[0m\n\u001b[1;32m     72\u001b[0m         \u001b[0;31m# Skip the first update if it is a recovery step.\u001b[0m\u001b[0;34m\u001b[0m\u001b[0;34m\u001b[0m\u001b[0;34m\u001b[0m\u001b[0m\n\u001b[1;32m     73\u001b[0m         \u001b[0;32mif\u001b[0m \u001b[0mversion\u001b[0m \u001b[0;34m%\u001b[0m \u001b[0;36m2\u001b[0m \u001b[0;34m==\u001b[0m \u001b[0;36m0\u001b[0m\u001b[0;34m:\u001b[0m\u001b[0;34m\u001b[0m\u001b[0;34m\u001b[0m\u001b[0m\n\u001b[0;32m---> 74\u001b[0;31m             \u001b[0mbst\u001b[0m\u001b[0;34m.\u001b[0m\u001b[0mupdate\u001b[0m\u001b[0;34m(\u001b[0m\u001b[0mdtrain\u001b[0m\u001b[0;34m,\u001b[0m \u001b[0mi\u001b[0m\u001b[0;34m,\u001b[0m \u001b[0mobj\u001b[0m\u001b[0;34m)\u001b[0m\u001b[0;34m\u001b[0m\u001b[0;34m\u001b[0m\u001b[0m\n\u001b[0m\u001b[1;32m     75\u001b[0m             \u001b[0mbst\u001b[0m\u001b[0;34m.\u001b[0m\u001b[0msave_rabit_checkpoint\u001b[0m\u001b[0;34m(\u001b[0m\u001b[0;34m)\u001b[0m\u001b[0;34m\u001b[0m\u001b[0;34m\u001b[0m\u001b[0m\n\u001b[1;32m     76\u001b[0m             \u001b[0mversion\u001b[0m \u001b[0;34m+=\u001b[0m \u001b[0;36m1\u001b[0m\u001b[0;34m\u001b[0m\u001b[0;34m\u001b[0m\u001b[0m\n",
            "\u001b[0;32m/usr/local/lib/python3.8/dist-packages/xgboost/core.py\u001b[0m in \u001b[0;36mupdate\u001b[0;34m(self, dtrain, iteration, fobj)\u001b[0m\n\u001b[1;32m   1106\u001b[0m \u001b[0;34m\u001b[0m\u001b[0m\n\u001b[1;32m   1107\u001b[0m         \u001b[0;32mif\u001b[0m \u001b[0mfobj\u001b[0m \u001b[0;32mis\u001b[0m \u001b[0;32mNone\u001b[0m\u001b[0;34m:\u001b[0m\u001b[0;34m\u001b[0m\u001b[0;34m\u001b[0m\u001b[0m\n\u001b[0;32m-> 1108\u001b[0;31m             _check_call(_LIB.XGBoosterUpdateOneIter(self.handle, ctypes.c_int(iteration),\n\u001b[0m\u001b[1;32m   1109\u001b[0m                                                     dtrain.handle))\n\u001b[1;32m   1110\u001b[0m         \u001b[0;32melse\u001b[0m\u001b[0;34m:\u001b[0m\u001b[0;34m\u001b[0m\u001b[0;34m\u001b[0m\u001b[0m\n",
            "\u001b[0;32m/usr/local/lib/python3.8/dist-packages/xgboost/core.py\u001b[0m in \u001b[0;36m_check_call\u001b[0;34m(ret)\u001b[0m\n\u001b[1;32m    174\u001b[0m     \"\"\"\n\u001b[1;32m    175\u001b[0m     \u001b[0;32mif\u001b[0m \u001b[0mret\u001b[0m \u001b[0;34m!=\u001b[0m \u001b[0;36m0\u001b[0m\u001b[0;34m:\u001b[0m\u001b[0;34m\u001b[0m\u001b[0;34m\u001b[0m\u001b[0m\n\u001b[0;32m--> 176\u001b[0;31m         \u001b[0;32mraise\u001b[0m \u001b[0mXGBoostError\u001b[0m\u001b[0;34m(\u001b[0m\u001b[0mpy_str\u001b[0m\u001b[0;34m(\u001b[0m\u001b[0m_LIB\u001b[0m\u001b[0;34m.\u001b[0m\u001b[0mXGBGetLastError\u001b[0m\u001b[0;34m(\u001b[0m\u001b[0;34m)\u001b[0m\u001b[0;34m)\u001b[0m\u001b[0;34m)\u001b[0m\u001b[0;34m\u001b[0m\u001b[0;34m\u001b[0m\u001b[0m\n\u001b[0m\u001b[1;32m    177\u001b[0m \u001b[0;34m\u001b[0m\u001b[0m\n\u001b[1;32m    178\u001b[0m \u001b[0;34m\u001b[0m\u001b[0m\n",
            "\u001b[0;31mXGBoostError\u001b[0m: Invalid Parameter format for colsample_bytree expect float but value='[67]'"
          ]
        }
      ]
    },
    {
      "cell_type": "code",
      "source": [
        "clf.cv_results_"
      ],
      "metadata": {
        "id": "SSFXZaeYNT3j"
      },
      "execution_count": null,
      "outputs": []
    },
    {
      "cell_type": "code",
      "source": [
        "print(\"Best score is {}\".format(clf.best_score_))\n",
        "print(\"Best parameters are {}\".format(clf.best_params_))"
      ],
      "metadata": {
        "id": "uTF6nCLNNT3k"
      },
      "execution_count": null,
      "outputs": []
    },
    {
      "cell_type": "markdown",
      "source": [
        "##DTRegressor"
      ],
      "metadata": {
        "id": "cAa4Qz-mNVo7"
      }
    },
    {
      "cell_type": "code",
      "source": [
        "model_name = 'DecisionTreeRegressor' \n",
        "for key in models:\n",
        "  if model_name == key:\n",
        "    print('The model {} has been selected'.format(models[key]))"
      ],
      "metadata": {
        "colab": {
          "base_uri": "https://localhost:8080/"
        },
        "outputId": "fc28530c-b41f-486f-dbd2-e7aa86e9a4de",
        "id": "FDbo6KYuNJu0"
      },
      "execution_count": 189,
      "outputs": [
        {
          "output_type": "stream",
          "name": "stdout",
          "text": [
            "The model DecisionTreeRegressor() has been selected\n"
          ]
        }
      ]
    },
    {
      "cell_type": "code",
      "source": [
        "if model_name == 'DecisionTreeRegressor' or 'DecisionTreeClassifier':\n",
        "  DTprmts = data['design_state_data']['algorithms'][model_name]\n",
        "  if DTprmts['use_best'] == True:\n",
        "    splitter = 'best'\n",
        "  if DTprmts['use_random'] == True:\n",
        "    splitter = 'random'\n",
        "\n",
        "  model = DecisionTreeRegressor(splitter = splitter)\n",
        "  clf = GridSearchCV(model, DTparams(data, model_name), n_jobs = hyp_params['parallelism'], cv = cv)"
      ],
      "metadata": {
        "id": "hRsDu1RQNJu1"
      },
      "execution_count": 191,
      "outputs": []
    },
    {
      "cell_type": "code",
      "source": [
        "X_new = reduced_features\n",
        "Y_new = Y_encoded\n",
        "clf.fit(X_new, Y_new)"
      ],
      "metadata": {
        "colab": {
          "base_uri": "https://localhost:8080/"
        },
        "outputId": "731a0254-d712-41cf-d765-8ae4388c3268",
        "id": "Ush3Y-DXNJu2"
      },
      "execution_count": 192,
      "outputs": [
        {
          "output_type": "execute_result",
          "data": {
            "text/plain": [
              "GridSearchCV(cv=RepeatedStratifiedKFold(n_repeats=2, n_splits=6, random_state=1),\n",
              "             estimator=DecisionTreeRegressor(splitter='random'), n_jobs=5,\n",
              "             param_grid={'max_depth': [4, 7], 'min_samples_leaf': [12, 6]})"
            ]
          },
          "metadata": {},
          "execution_count": 192
        }
      ]
    },
    {
      "cell_type": "code",
      "source": [
        "clf.cv_results_"
      ],
      "metadata": {
        "colab": {
          "base_uri": "https://localhost:8080/"
        },
        "outputId": "fa5c912d-6569-4ce2-8d5d-5e68498c1003",
        "id": "sZR91B0KNJu2"
      },
      "execution_count": 193,
      "outputs": [
        {
          "output_type": "execute_result",
          "data": {
            "text/plain": [
              "{'mean_fit_time': array([0.0016259 , 0.00094336, 0.00289486, 0.00273496]),\n",
              " 'std_fit_time': array([0.00152069, 0.00057002, 0.00367691, 0.00380048]),\n",
              " 'mean_score_time': array([0.0027253 , 0.00112206, 0.00089594, 0.00266995]),\n",
              " 'std_score_time': array([0.00384529, 0.00117234, 0.00050219, 0.00368293]),\n",
              " 'param_max_depth': masked_array(data=[4, 4, 7, 7],\n",
              "              mask=[False, False, False, False],\n",
              "        fill_value='?',\n",
              "             dtype=object),\n",
              " 'param_min_samples_leaf': masked_array(data=[12, 6, 12, 6],\n",
              "              mask=[False, False, False, False],\n",
              "        fill_value='?',\n",
              "             dtype=object),\n",
              " 'params': [{'max_depth': 4, 'min_samples_leaf': 12},\n",
              "  {'max_depth': 4, 'min_samples_leaf': 6},\n",
              "  {'max_depth': 7, 'min_samples_leaf': 12},\n",
              "  {'max_depth': 7, 'min_samples_leaf': 6}],\n",
              " 'split0_test_score': array([0.87129567, 0.93924537, 0.76300295, 0.97958545]),\n",
              " 'split1_test_score': array([0.90813193, 0.92900462, 0.94552252, 0.95099581]),\n",
              " 'split2_test_score': array([0.        , 0.93433014, 0.95836693, 0.95508307]),\n",
              " 'split3_test_score': array([0.87553113, 0.81232687, 0.82985043, 0.95770833]),\n",
              " 'split4_test_score': array([0.74528302, 0.8579247 , 0.95435524, 0.94466222]),\n",
              " 'split5_test_score': array([0.81740115, 0.89809761, 0.88968125, 0.83709263]),\n",
              " 'split6_test_score': array([0.86696152, 0.96005142, 0.76300295, 0.99479573]),\n",
              " 'split7_test_score': array([0.92451802, 0.82520654, 0.86913987, 0.93142996]),\n",
              " 'split8_test_score': array([0.83253258, 0.87193294, 0.74962394, 0.9412565 ]),\n",
              " 'split9_test_score': array([0.85709925, 0.9046352 , 0.91670572, 0.9751662 ]),\n",
              " 'split10_test_score': array([0.84426066, 0.87662146, 0.75635428, 0.96431944]),\n",
              " 'split11_test_score': array([0.81573091, 0.97312162, 0.91242566, 0.91618587]),\n",
              " 'mean_test_score': array([0.77989549, 0.89854154, 0.85900265, 0.9456901 ]),\n",
              " 'std_test_score': array([0.23934646, 0.04907293, 0.07929943, 0.038649  ]),\n",
              " 'rank_test_score': array([4, 2, 3, 1], dtype=int32)}"
            ]
          },
          "metadata": {},
          "execution_count": 193
        }
      ]
    },
    {
      "cell_type": "code",
      "source": [
        "print(\"Best score is {}\".format(clf.best_score_))\n",
        "print(\"Best parameters are {}\".format(clf.best_params_))"
      ],
      "metadata": {
        "colab": {
          "base_uri": "https://localhost:8080/"
        },
        "outputId": "3ff06472-1f48-402a-b9b5-32f1c1aa9ce6",
        "id": "ni_R2BhENJu3"
      },
      "execution_count": 194,
      "outputs": [
        {
          "output_type": "stream",
          "name": "stdout",
          "text": [
            "Best score is 0.9456901005365596\n",
            "Best parameters are {'max_depth': 7, 'min_samples_leaf': 6}\n"
          ]
        }
      ]
    },
    {
      "cell_type": "markdown",
      "source": [
        "##Classifiers"
      ],
      "metadata": {
        "id": "Nhf75OkvNKot"
      }
    },
    {
      "cell_type": "code",
      "source": [
        "#using the classification models from here\n",
        "\n",
        "models = {\"RandomForestClassifier\": RandomForestClassifier(),\n",
        "            \"GBTClassifier\": GradientBoostingClassifier(),\n",
        "            \"LogisticRegression\": LogisticRegression(),\n",
        "            \"DecisionTreeClassifier\": DecisionTreeClassifier(),\n",
        "            \"SVM\": SVC(),\n",
        "            \"SGD\": SGDClassifier(),\n",
        "            \"KNN\": KNeighborsClassifier(),\n",
        "            \"extra_random_trees\": ExtraTreesClassifier(),\n",
        "            \"neural_network\": MLPClassifier()}\n"
      ],
      "metadata": {
        "id": "5OT2LOP-PQ9s"
      },
      "execution_count": 198,
      "outputs": []
    },
    {
      "cell_type": "markdown",
      "source": [
        "##Random Forest Classifier"
      ],
      "metadata": {
        "id": "vKMY5RXsG9Rb"
      }
    },
    {
      "cell_type": "code",
      "source": [
        "model_name = 'RandomForestClassifier' \n",
        "for key in models:\n",
        "  if model_name == key:\n",
        "    print('The model {} has been selected'.format(models[key]))"
      ],
      "metadata": {
        "colab": {
          "base_uri": "https://localhost:8080/"
        },
        "outputId": "99a0aa8c-628e-4dc7-9ed4-ca36cd0b3876",
        "id": "3mzL7_LXPkAV"
      },
      "execution_count": 199,
      "outputs": [
        {
          "output_type": "stream",
          "name": "stdout",
          "text": [
            "The model RandomForestClassifier() has been selected\n"
          ]
        }
      ]
    },
    {
      "cell_type": "code",
      "source": [
        "if model_name == 'RandomForestRegressor' or 'RandomForestClassifier':\n",
        "  model = models[model_name]\n",
        "  clf = GridSearchCV(model, RFparams(data, model_name), n_jobs = hyp_params['parallelism'], cv = cv)"
      ],
      "metadata": {
        "id": "Bg2V6TygPkAX"
      },
      "execution_count": 200,
      "outputs": []
    },
    {
      "cell_type": "code",
      "source": [
        "X_new = reduced_features\n",
        "Y_new = Y_encoded\n",
        "clf.fit(X_new, Y_new)"
      ],
      "metadata": {
        "colab": {
          "base_uri": "https://localhost:8080/"
        },
        "outputId": "f8d7b54b-5c0e-4305-d341-8f2d5dda785b",
        "id": "oWS3R3cTPkAY"
      },
      "execution_count": 201,
      "outputs": [
        {
          "output_type": "execute_result",
          "data": {
            "text/plain": [
              "GridSearchCV(cv=RepeatedStratifiedKFold(n_repeats=2, n_splits=6, random_state=1),\n",
              "             estimator=RandomForestClassifier(), n_jobs=5,\n",
              "             param_grid={'max_depth': [20, 30], 'min_samples_leaf': [5, 50],\n",
              "                         'n_estimators': [10, 30]})"
            ]
          },
          "metadata": {},
          "execution_count": 201
        }
      ]
    },
    {
      "cell_type": "code",
      "source": [
        "clf.cv_results_"
      ],
      "metadata": {
        "colab": {
          "base_uri": "https://localhost:8080/"
        },
        "outputId": "6b8a580c-097b-4c79-9623-b37b910e7abf",
        "id": "KWzWCPI2PkAZ"
      },
      "execution_count": 202,
      "outputs": [
        {
          "output_type": "execute_result",
          "data": {
            "text/plain": [
              "{'mean_fit_time': array([0.06708113, 0.21205048, 0.06089719, 0.18878053, 0.06686407,\n",
              "        0.19286791, 0.06038463, 0.16238016]),\n",
              " 'std_fit_time': array([0.01431798, 0.03715446, 0.02180424, 0.03437108, 0.02662736,\n",
              "        0.02705041, 0.02099798, 0.05175007]),\n",
              " 'mean_score_time': array([0.01036847, 0.01759801, 0.00702397, 0.01527804, 0.00711028,\n",
              "        0.01663182, 0.00736296, 0.01682379]),\n",
              " 'std_score_time': array([0.00587295, 0.00896026, 0.00677888, 0.00469373, 0.00536969,\n",
              "        0.00600052, 0.00490459, 0.00884308]),\n",
              " 'param_max_depth': masked_array(data=[20, 20, 20, 20, 30, 30, 30, 30],\n",
              "              mask=[False, False, False, False, False, False, False, False],\n",
              "        fill_value='?',\n",
              "             dtype=object),\n",
              " 'param_min_samples_leaf': masked_array(data=[5, 5, 50, 50, 5, 5, 50, 50],\n",
              "              mask=[False, False, False, False, False, False, False, False],\n",
              "        fill_value='?',\n",
              "             dtype=object),\n",
              " 'param_n_estimators': masked_array(data=[10, 30, 10, 30, 10, 30, 10, 30],\n",
              "              mask=[False, False, False, False, False, False, False, False],\n",
              "        fill_value='?',\n",
              "             dtype=object),\n",
              " 'params': [{'max_depth': 20, 'min_samples_leaf': 5, 'n_estimators': 10},\n",
              "  {'max_depth': 20, 'min_samples_leaf': 5, 'n_estimators': 30},\n",
              "  {'max_depth': 20, 'min_samples_leaf': 50, 'n_estimators': 10},\n",
              "  {'max_depth': 20, 'min_samples_leaf': 50, 'n_estimators': 30},\n",
              "  {'max_depth': 30, 'min_samples_leaf': 5, 'n_estimators': 10},\n",
              "  {'max_depth': 30, 'min_samples_leaf': 5, 'n_estimators': 30},\n",
              "  {'max_depth': 30, 'min_samples_leaf': 50, 'n_estimators': 10},\n",
              "  {'max_depth': 30, 'min_samples_leaf': 50, 'n_estimators': 30}],\n",
              " 'split0_test_score': array([1.  , 1.  , 0.32, 0.32, 0.96, 1.  , 0.36, 0.36]),\n",
              " 'split1_test_score': array([0.96, 0.96, 0.36, 0.32, 0.96, 0.96, 0.32, 0.32]),\n",
              " 'split2_test_score': array([0.96, 0.96, 0.32, 0.32, 0.96, 0.96, 0.36, 0.36]),\n",
              " 'split3_test_score': array([0.96, 0.88, 0.32, 0.32, 0.88, 0.92, 0.32, 0.32]),\n",
              " 'split4_test_score': array([0.96, 1.  , 0.32, 0.32, 0.96, 1.  , 0.32, 0.32]),\n",
              " 'split5_test_score': array([0.88, 0.92, 0.32, 0.32, 0.92, 0.88, 0.32, 0.32]),\n",
              " 'split6_test_score': array([1.  , 1.  , 0.32, 0.32, 1.  , 1.  , 0.36, 0.32]),\n",
              " 'split7_test_score': array([0.96, 0.96, 0.32, 0.32, 0.92, 0.92, 0.32, 0.32]),\n",
              " 'split8_test_score': array([0.96, 0.96, 0.32, 0.32, 0.96, 0.96, 0.32, 0.32]),\n",
              " 'split9_test_score': array([0.96, 0.96, 0.32, 0.32, 0.96, 0.96, 0.32, 0.32]),\n",
              " 'split10_test_score': array([0.92, 0.92, 0.36, 0.32, 0.92, 0.92, 0.32, 0.32]),\n",
              " 'split11_test_score': array([0.92, 0.92, 0.32, 0.32, 0.96, 0.96, 0.32, 0.32]),\n",
              " 'mean_test_score': array([0.95333333, 0.95333333, 0.32666667, 0.32      , 0.94666667,\n",
              "        0.95333333, 0.33      , 0.32666667]),\n",
              " 'std_test_score': array([3.19722102e-02, 3.59010987e-02, 1.49071198e-02, 5.55111512e-17,\n",
              "        2.98142397e-02, 3.59010987e-02, 1.73205081e-02, 1.49071198e-02]),\n",
              " 'rank_test_score': array([1, 1, 6, 8, 4, 3, 5, 6], dtype=int32)}"
            ]
          },
          "metadata": {},
          "execution_count": 202
        }
      ]
    },
    {
      "cell_type": "code",
      "source": [
        "print(\"Best score is {}\".format(clf.best_score_))\n",
        "print(\"Best parameters are {}\".format(clf.best_params_))"
      ],
      "metadata": {
        "colab": {
          "base_uri": "https://localhost:8080/"
        },
        "outputId": "d9052cf6-89d4-475a-e204-8371e7c938cb",
        "id": "-bWjRw-8PkAZ"
      },
      "execution_count": 203,
      "outputs": [
        {
          "output_type": "stream",
          "name": "stdout",
          "text": [
            "Best score is 0.9533333333333335\n",
            "Best parameters are {'max_depth': 20, 'min_samples_leaf': 5, 'n_estimators': 10}\n"
          ]
        }
      ]
    },
    {
      "cell_type": "markdown",
      "source": [
        "##GBTClassifier"
      ],
      "metadata": {
        "id": "NplQuwHbP6-R"
      }
    },
    {
      "cell_type": "code",
      "source": [
        "model_name = 'GBTClassifier' \n",
        "for key in models:\n",
        "  if model_name == key:\n",
        "    print('The model {} has been selected'.format(models[key]))"
      ],
      "metadata": {
        "colab": {
          "base_uri": "https://localhost:8080/"
        },
        "outputId": "6ad27d0e-7f0c-4caa-aa7a-4dd5f9b18e5d",
        "id": "X844J5kYQEyj"
      },
      "execution_count": 204,
      "outputs": [
        {
          "output_type": "stream",
          "name": "stdout",
          "text": [
            "The model GradientBoostingClassifier() has been selected\n"
          ]
        }
      ]
    },
    {
      "cell_type": "code",
      "source": [
        "if model_name == 'GBTRegressor' or 'GBTClassifier':\n",
        "  model = models[model_name]\n",
        "  clf = GridSearchCV(model, GBTparams(data, model_name), n_jobs = hyp_params['parallelism'], cv = cv)"
      ],
      "metadata": {
        "id": "dB1pzJS3QEyq"
      },
      "execution_count": 205,
      "outputs": []
    },
    {
      "cell_type": "code",
      "source": [
        "X_new = reduced_features\n",
        "Y_new = Y_encoded\n",
        "clf.fit(X_new, Y_new)"
      ],
      "metadata": {
        "colab": {
          "base_uri": "https://localhost:8080/"
        },
        "outputId": "46ce4988-01df-4319-d74e-e73f3f4973a1",
        "id": "-lwueMI8QEyr"
      },
      "execution_count": 206,
      "outputs": [
        {
          "output_type": "stream",
          "name": "stderr",
          "text": [
            "/usr/local/lib/python3.8/dist-packages/sklearn/model_selection/_validation.py:372: FitFailedWarning: \n",
            "96 fits failed out of a total of 192.\n",
            "The score on these train-test partitions for these parameters will be set to nan.\n",
            "If these failures are not expected, you can try to debug them by setting error_score='raise'.\n",
            "\n",
            "Below are more details about the failures:\n",
            "--------------------------------------------------------------------------------\n",
            "96 fits failed with the following error:\n",
            "Traceback (most recent call last):\n",
            "  File \"/usr/local/lib/python3.8/dist-packages/sklearn/model_selection/_validation.py\", line 680, in _fit_and_score\n",
            "    estimator.fit(X_train, y_train, **fit_params)\n",
            "  File \"/usr/local/lib/python3.8/dist-packages/sklearn/ensemble/_gb.py\", line 525, in fit\n",
            "    self._check_params()\n",
            "  File \"/usr/local/lib/python3.8/dist-packages/sklearn/ensemble/_gb.py\", line 317, in _check_params\n",
            "    raise ValueError(\"subsample must be in (0,1] but was %r\" % self.subsample)\n",
            "ValueError: subsample must be in (0,1] but was 2\n",
            "\n",
            "  warnings.warn(some_fits_failed_message, FitFailedWarning)\n",
            "/usr/local/lib/python3.8/dist-packages/sklearn/model_selection/_search.py:969: UserWarning: One or more of the test scores are non-finite: [0.95333333        nan 0.95333333        nan 0.95              nan\n",
            " 0.95333333        nan 0.94666667        nan 0.95              nan\n",
            " 0.94666667        nan 0.95              nan]\n",
            "  warnings.warn(\n"
          ]
        },
        {
          "output_type": "execute_result",
          "data": {
            "text/plain": [
              "GridSearchCV(cv=RepeatedStratifiedKFold(n_repeats=2, n_splits=6, random_state=1),\n",
              "             estimator=GradientBoostingClassifier(), n_jobs=5,\n",
              "             param_grid={'learning_rate': [0.1, 0.5], 'max_depth': [5, 7],\n",
              "                         'n_iter_no_change': [20, 40], 'subsample': [1, 2]})"
            ]
          },
          "metadata": {},
          "execution_count": 206
        }
      ]
    },
    {
      "cell_type": "code",
      "source": [
        "clf.cv_results_"
      ],
      "metadata": {
        "colab": {
          "base_uri": "https://localhost:8080/"
        },
        "outputId": "136e8779-98db-4265-c157-32cbb4682fa2",
        "id": "JsEeDSeqQEyr"
      },
      "execution_count": 207,
      "outputs": [
        {
          "output_type": "execute_result",
          "data": {
            "text/plain": [
              "{'mean_fit_time': array([0.57270191, 0.00379646, 0.92061422, 0.00660962, 0.82639625,\n",
              "        0.00489253, 0.99786087, 0.0028923 , 0.35412397, 0.00303088,\n",
              "        0.57504894, 0.00478325, 0.33285534, 0.00667614, 0.51047397,\n",
              "        0.00461626]),\n",
              " 'std_fit_time': array([0.31785081, 0.00364916, 0.41545652, 0.00529602, 0.44576212,\n",
              "        0.00366913, 0.3455331 , 0.0015488 , 0.10238829, 0.00358803,\n",
              "        0.09047212, 0.00497716, 0.0813437 , 0.00472408, 0.10354517,\n",
              "        0.00469081]),\n",
              " 'mean_score_time': array([0.00271694, 0.        , 0.00329608, 0.        , 0.0043444 ,\n",
              "        0.        , 0.00365718, 0.        , 0.00643243, 0.        ,\n",
              "        0.00363135, 0.        , 0.00518878, 0.        , 0.00550338,\n",
              "        0.        ]),\n",
              " 'std_score_time': array([0.00236029, 0.        , 0.00417628, 0.        , 0.00492288,\n",
              "        0.        , 0.00401022, 0.        , 0.00550891, 0.        ,\n",
              "        0.00420413, 0.        , 0.00497266, 0.        , 0.00526904,\n",
              "        0.        ]),\n",
              " 'param_learning_rate': masked_array(data=[0.1, 0.1, 0.1, 0.1, 0.1, 0.1, 0.1, 0.1, 0.5, 0.5, 0.5,\n",
              "                    0.5, 0.5, 0.5, 0.5, 0.5],\n",
              "              mask=[False, False, False, False, False, False, False, False,\n",
              "                    False, False, False, False, False, False, False, False],\n",
              "        fill_value='?',\n",
              "             dtype=object),\n",
              " 'param_max_depth': masked_array(data=[5, 5, 5, 5, 7, 7, 7, 7, 5, 5, 5, 5, 7, 7, 7, 7],\n",
              "              mask=[False, False, False, False, False, False, False, False,\n",
              "                    False, False, False, False, False, False, False, False],\n",
              "        fill_value='?',\n",
              "             dtype=object),\n",
              " 'param_n_iter_no_change': masked_array(data=[20, 20, 40, 40, 20, 20, 40, 40, 20, 20, 40, 40, 20, 20,\n",
              "                    40, 40],\n",
              "              mask=[False, False, False, False, False, False, False, False,\n",
              "                    False, False, False, False, False, False, False, False],\n",
              "        fill_value='?',\n",
              "             dtype=object),\n",
              " 'param_subsample': masked_array(data=[1, 2, 1, 2, 1, 2, 1, 2, 1, 2, 1, 2, 1, 2, 1, 2],\n",
              "              mask=[False, False, False, False, False, False, False, False,\n",
              "                    False, False, False, False, False, False, False, False],\n",
              "        fill_value='?',\n",
              "             dtype=object),\n",
              " 'params': [{'learning_rate': 0.1,\n",
              "   'max_depth': 5,\n",
              "   'n_iter_no_change': 20,\n",
              "   'subsample': 1},\n",
              "  {'learning_rate': 0.1,\n",
              "   'max_depth': 5,\n",
              "   'n_iter_no_change': 20,\n",
              "   'subsample': 2},\n",
              "  {'learning_rate': 0.1,\n",
              "   'max_depth': 5,\n",
              "   'n_iter_no_change': 40,\n",
              "   'subsample': 1},\n",
              "  {'learning_rate': 0.1,\n",
              "   'max_depth': 5,\n",
              "   'n_iter_no_change': 40,\n",
              "   'subsample': 2},\n",
              "  {'learning_rate': 0.1,\n",
              "   'max_depth': 7,\n",
              "   'n_iter_no_change': 20,\n",
              "   'subsample': 1},\n",
              "  {'learning_rate': 0.1,\n",
              "   'max_depth': 7,\n",
              "   'n_iter_no_change': 20,\n",
              "   'subsample': 2},\n",
              "  {'learning_rate': 0.1,\n",
              "   'max_depth': 7,\n",
              "   'n_iter_no_change': 40,\n",
              "   'subsample': 1},\n",
              "  {'learning_rate': 0.1,\n",
              "   'max_depth': 7,\n",
              "   'n_iter_no_change': 40,\n",
              "   'subsample': 2},\n",
              "  {'learning_rate': 0.5,\n",
              "   'max_depth': 5,\n",
              "   'n_iter_no_change': 20,\n",
              "   'subsample': 1},\n",
              "  {'learning_rate': 0.5,\n",
              "   'max_depth': 5,\n",
              "   'n_iter_no_change': 20,\n",
              "   'subsample': 2},\n",
              "  {'learning_rate': 0.5,\n",
              "   'max_depth': 5,\n",
              "   'n_iter_no_change': 40,\n",
              "   'subsample': 1},\n",
              "  {'learning_rate': 0.5,\n",
              "   'max_depth': 5,\n",
              "   'n_iter_no_change': 40,\n",
              "   'subsample': 2},\n",
              "  {'learning_rate': 0.5,\n",
              "   'max_depth': 7,\n",
              "   'n_iter_no_change': 20,\n",
              "   'subsample': 1},\n",
              "  {'learning_rate': 0.5,\n",
              "   'max_depth': 7,\n",
              "   'n_iter_no_change': 20,\n",
              "   'subsample': 2},\n",
              "  {'learning_rate': 0.5,\n",
              "   'max_depth': 7,\n",
              "   'n_iter_no_change': 40,\n",
              "   'subsample': 1},\n",
              "  {'learning_rate': 0.5,\n",
              "   'max_depth': 7,\n",
              "   'n_iter_no_change': 40,\n",
              "   'subsample': 2}],\n",
              " 'split0_test_score': array([ 1., nan,  1., nan,  1., nan,  1., nan,  1., nan,  1., nan,  1.,\n",
              "        nan,  1., nan]),\n",
              " 'split1_test_score': array([0.96,  nan, 0.92,  nan, 0.92,  nan, 0.96,  nan, 0.92,  nan, 0.96,\n",
              "         nan, 0.96,  nan, 0.92,  nan]),\n",
              " 'split2_test_score': array([0.96,  nan, 0.96,  nan, 0.96,  nan, 0.96,  nan, 0.96,  nan, 0.96,\n",
              "         nan, 0.96,  nan, 0.96,  nan]),\n",
              " 'split3_test_score': array([0.92,  nan, 0.92,  nan, 0.96,  nan, 0.92,  nan, 0.92,  nan, 0.92,\n",
              "         nan, 0.92,  nan, 0.92,  nan]),\n",
              " 'split4_test_score': array([0.96,  nan, 0.96,  nan, 0.96,  nan, 0.96,  nan, 0.96,  nan, 0.96,\n",
              "         nan, 0.96,  nan, 0.96,  nan]),\n",
              " 'split5_test_score': array([0.92,  nan, 0.92,  nan, 0.92,  nan, 0.92,  nan, 0.92,  nan, 0.92,\n",
              "         nan, 0.92,  nan, 0.92,  nan]),\n",
              " 'split6_test_score': array([0.96,  nan, 1.  ,  nan, 0.96,  nan, 0.96,  nan, 0.96,  nan, 1.  ,\n",
              "         nan, 0.96,  nan, 1.  ,  nan]),\n",
              " 'split7_test_score': array([0.96,  nan, 0.92,  nan, 0.92,  nan, 0.96,  nan, 0.96,  nan, 0.92,\n",
              "         nan, 0.92,  nan, 0.92,  nan]),\n",
              " 'split8_test_score': array([0.96,  nan, 0.96,  nan, 0.96,  nan, 0.96,  nan, 0.96,  nan, 0.96,\n",
              "         nan, 0.96,  nan, 0.96,  nan]),\n",
              " 'split9_test_score': array([0.96,  nan, 0.96,  nan, 0.96,  nan, 0.92,  nan, 0.92,  nan, 0.92,\n",
              "         nan, 0.92,  nan, 0.92,  nan]),\n",
              " 'split10_test_score': array([0.92,  nan, 0.96,  nan, 0.92,  nan, 0.96,  nan, 0.92,  nan, 0.92,\n",
              "         nan, 0.96,  nan, 0.96,  nan]),\n",
              " 'split11_test_score': array([0.96,  nan, 0.96,  nan, 0.96,  nan, 0.96,  nan, 0.96,  nan, 0.96,\n",
              "         nan, 0.92,  nan, 0.96,  nan]),\n",
              " 'mean_test_score': array([0.95333333,        nan, 0.95333333,        nan, 0.95      ,\n",
              "               nan, 0.95333333,        nan, 0.94666667,        nan,\n",
              "        0.95      ,        nan, 0.94666667,        nan, 0.95      ,\n",
              "               nan]),\n",
              " 'std_test_score': array([0.02211083,        nan, 0.02748737,        nan, 0.02380476,\n",
              "               nan, 0.02211083,        nan, 0.02494438,        nan,\n",
              "        0.02886751,        nan, 0.02494438,        nan, 0.02886751,\n",
              "               nan]),\n",
              " 'rank_test_score': array([ 3,  9,  1, 10,  4, 11,  1, 12,  7, 13,  4, 14,  8, 15,  4, 16],\n",
              "       dtype=int32)}"
            ]
          },
          "metadata": {},
          "execution_count": 207
        }
      ]
    },
    {
      "cell_type": "code",
      "source": [
        "print(\"Best score is {}\".format(clf.best_score_))\n",
        "print(\"Best parameters are {}\".format(clf.best_params_))"
      ],
      "metadata": {
        "colab": {
          "base_uri": "https://localhost:8080/"
        },
        "outputId": "7df4f785-2707-4cd4-d811-47d562a49163",
        "id": "RyJFPddEQEys"
      },
      "execution_count": 208,
      "outputs": [
        {
          "output_type": "stream",
          "name": "stdout",
          "text": [
            "Best score is 0.9533333333333335\n",
            "Best parameters are {'learning_rate': 0.1, 'max_depth': 5, 'n_iter_no_change': 40, 'subsample': 1}\n"
          ]
        }
      ]
    },
    {
      "cell_type": "markdown",
      "source": [
        "##Logistic Regression"
      ],
      "metadata": {
        "id": "rQdK2-VbQHdv"
      }
    },
    {
      "cell_type": "code",
      "source": [
        "model_name = 'LogisticRegression' \n",
        "for key in models:\n",
        "  if model_name == key:\n",
        "    print('The model {} has been selected'.format(models[key]))"
      ],
      "metadata": {
        "colab": {
          "base_uri": "https://localhost:8080/"
        },
        "outputId": "7efbcea5-96f8-48fa-98db-fc22a7ba92fb",
        "id": "TyHhQFtTQJyn"
      },
      "execution_count": 209,
      "outputs": [
        {
          "output_type": "stream",
          "name": "stdout",
          "text": [
            "The model LogisticRegression() has been selected\n"
          ]
        }
      ]
    },
    {
      "cell_type": "code",
      "source": [
        "if model_name ==  'LogisticRegression':\n",
        "  model = models[model_name]\n",
        "  clf = GridSearchCV(model, LRparams(data, model_name), n_jobs = hyp_params['parallelism'], cv = cv)"
      ],
      "metadata": {
        "id": "xOWiUk8oQJyp"
      },
      "execution_count": 213,
      "outputs": []
    },
    {
      "cell_type": "code",
      "source": [
        "X_new = reduced_features\n",
        "Y_new = Y_encoded\n",
        "clf.fit(X_new, Y_new)"
      ],
      "metadata": {
        "colab": {
          "base_uri": "https://localhost:8080/"
        },
        "outputId": "4bfeb9e6-1a43-4008-9023-082dfbcc735f",
        "id": "X4rAqefLQJyp"
      },
      "execution_count": 214,
      "outputs": [
        {
          "output_type": "stream",
          "name": "stderr",
          "text": [
            "/usr/local/lib/python3.8/dist-packages/sklearn/linear_model/_logistic.py:1476: UserWarning: l1_ratio parameter is only used when penalty is 'elasticnet'. Got (penalty=l2)\n",
            "  warnings.warn(\n",
            "/usr/local/lib/python3.8/dist-packages/sklearn/linear_model/_logistic.py:814: ConvergenceWarning: lbfgs failed to converge (status=1):\n",
            "STOP: TOTAL NO. of ITERATIONS REACHED LIMIT.\n",
            "\n",
            "Increase the number of iterations (max_iter) or scale the data as shown in:\n",
            "    https://scikit-learn.org/stable/modules/preprocessing.html\n",
            "Please also refer to the documentation for alternative solver options:\n",
            "    https://scikit-learn.org/stable/modules/linear_model.html#logistic-regression\n",
            "  n_iter_i = _check_optimize_result(\n"
          ]
        },
        {
          "output_type": "execute_result",
          "data": {
            "text/plain": [
              "GridSearchCV(cv=RepeatedStratifiedKFold(n_repeats=2, n_splits=6, random_state=1),\n",
              "             estimator=LogisticRegression(), n_jobs=5,\n",
              "             param_grid={'C': [0.5, 0.8], 'l1_ratio': [0.5, 0.8],\n",
              "                         'max_iter': [30, 50]})"
            ]
          },
          "metadata": {},
          "execution_count": 214
        }
      ]
    },
    {
      "cell_type": "code",
      "source": [
        "clf.cv_results_"
      ],
      "metadata": {
        "colab": {
          "base_uri": "https://localhost:8080/"
        },
        "outputId": "536894e9-54fe-4f13-849b-0d49c33f232f",
        "id": "gVvZgqfLQJyq"
      },
      "execution_count": 215,
      "outputs": [
        {
          "output_type": "execute_result",
          "data": {
            "text/plain": [
              "{'mean_fit_time': array([0.05180156, 0.057166  , 0.05322971, 0.0578807 , 0.05070702,\n",
              "        0.07268629, 0.06290066, 0.04058333]),\n",
              " 'std_fit_time': array([0.01733044, 0.01023873, 0.01294388, 0.01271839, 0.011108  ,\n",
              "        0.02980458, 0.03378334, 0.0139    ]),\n",
              " 'mean_score_time': array([0.00328505, 0.00059485, 0.00296493, 0.00109698, 0.00061828,\n",
              "        0.00504762, 0.00127101, 0.00059706]),\n",
              " 'std_score_time': array([4.82055634e-03, 3.96899508e-05, 4.95394594e-03, 1.50654050e-03,\n",
              "        7.32388298e-05, 5.61885402e-03, 1.96622041e-03, 5.25691003e-05]),\n",
              " 'param_C': masked_array(data=[0.5, 0.5, 0.5, 0.5, 0.8, 0.8, 0.8, 0.8],\n",
              "              mask=[False, False, False, False, False, False, False, False],\n",
              "        fill_value='?',\n",
              "             dtype=object),\n",
              " 'param_l1_ratio': masked_array(data=[0.5, 0.5, 0.8, 0.8, 0.5, 0.5, 0.8, 0.8],\n",
              "              mask=[False, False, False, False, False, False, False, False],\n",
              "        fill_value='?',\n",
              "             dtype=object),\n",
              " 'param_max_iter': masked_array(data=[30, 50, 30, 50, 30, 50, 30, 50],\n",
              "              mask=[False, False, False, False, False, False, False, False],\n",
              "        fill_value='?',\n",
              "             dtype=object),\n",
              " 'params': [{'C': 0.5, 'l1_ratio': 0.5, 'max_iter': 30},\n",
              "  {'C': 0.5, 'l1_ratio': 0.5, 'max_iter': 50},\n",
              "  {'C': 0.5, 'l1_ratio': 0.8, 'max_iter': 30},\n",
              "  {'C': 0.5, 'l1_ratio': 0.8, 'max_iter': 50},\n",
              "  {'C': 0.8, 'l1_ratio': 0.5, 'max_iter': 30},\n",
              "  {'C': 0.8, 'l1_ratio': 0.5, 'max_iter': 50},\n",
              "  {'C': 0.8, 'l1_ratio': 0.8, 'max_iter': 30},\n",
              "  {'C': 0.8, 'l1_ratio': 0.8, 'max_iter': 50}],\n",
              " 'split0_test_score': array([1., 1., 1., 1., 1., 1., 1., 1.]),\n",
              " 'split1_test_score': array([0.96, 0.96, 0.96, 0.96, 0.96, 0.96, 0.96, 0.96]),\n",
              " 'split2_test_score': array([0.96, 0.96, 0.96, 0.96, 0.96, 0.96, 0.96, 0.96]),\n",
              " 'split3_test_score': array([0.96, 0.96, 0.96, 0.96, 0.96, 0.96, 0.96, 0.96]),\n",
              " 'split4_test_score': array([1.  , 1.  , 1.  , 1.  , 0.96, 0.96, 0.96, 0.96]),\n",
              " 'split5_test_score': array([0.92, 0.92, 0.92, 0.92, 0.92, 0.92, 0.92, 0.92]),\n",
              " 'split6_test_score': array([1., 1., 1., 1., 1., 1., 1., 1.]),\n",
              " 'split7_test_score': array([0.96, 0.96, 0.96, 0.96, 0.96, 0.96, 0.96, 0.96]),\n",
              " 'split8_test_score': array([0.96, 0.96, 0.96, 0.96, 0.96, 0.96, 0.96, 0.96]),\n",
              " 'split9_test_score': array([0.96, 0.96, 0.96, 0.96, 0.96, 0.96, 0.96, 0.96]),\n",
              " 'split10_test_score': array([0.96, 0.96, 0.96, 0.96, 0.96, 0.96, 0.96, 0.96]),\n",
              " 'split11_test_score': array([0.96, 0.96, 0.96, 0.96, 0.96, 0.96, 0.96, 0.96]),\n",
              " 'mean_test_score': array([0.96666667, 0.96666667, 0.96666667, 0.96666667, 0.96333333,\n",
              "        0.96333333, 0.96333333, 0.96333333]),\n",
              " 'std_test_score': array([0.02211083, 0.02211083, 0.02211083, 0.02211083, 0.01972027,\n",
              "        0.01972027, 0.01972027, 0.01972027]),\n",
              " 'rank_test_score': array([1, 1, 1, 1, 5, 5, 5, 5], dtype=int32)}"
            ]
          },
          "metadata": {},
          "execution_count": 215
        }
      ]
    },
    {
      "cell_type": "code",
      "source": [
        "print(\"Best score is {}\".format(clf.best_score_))\n",
        "print(\"Best parameters are {}\".format(clf.best_params_))"
      ],
      "metadata": {
        "colab": {
          "base_uri": "https://localhost:8080/"
        },
        "outputId": "8105f84d-0326-4da9-9eb0-2a2c6536b4ac",
        "id": "ZvcdL30rQJyq"
      },
      "execution_count": 216,
      "outputs": [
        {
          "output_type": "stream",
          "name": "stdout",
          "text": [
            "Best score is 0.9666666666666668\n",
            "Best parameters are {'C': 0.5, 'l1_ratio': 0.5, 'max_iter': 30}\n"
          ]
        }
      ]
    },
    {
      "cell_type": "markdown",
      "source": [
        "##DTClassifier"
      ],
      "metadata": {
        "id": "z_99ZQ44QNPQ"
      }
    },
    {
      "cell_type": "code",
      "source": [
        "model_name = 'DecisionTreeClassifier' \n",
        "for key in models:\n",
        "  if model_name == key:\n",
        "    print('The model {} has been selected'.format(models[key]))"
      ],
      "metadata": {
        "colab": {
          "base_uri": "https://localhost:8080/"
        },
        "outputId": "31923a3a-1c2d-4acd-f7bb-1cf74538da17",
        "id": "RgiYYRZmQPcq"
      },
      "execution_count": 217,
      "outputs": [
        {
          "output_type": "stream",
          "name": "stdout",
          "text": [
            "The model DecisionTreeClassifier() has been selected\n"
          ]
        }
      ]
    },
    {
      "cell_type": "code",
      "source": [
        "if model_name == 'DecisionTreeRegressor' or 'DecisionTreeClassifier':\n",
        "  DTprmts = data['design_state_data']['algorithms'][model_name]\n",
        "  if DTprmts['use_best'] == True:\n",
        "    splitter = 'best'\n",
        "  if DTprmts['use_random'] == True:\n",
        "    splitter = 'random'\n",
        "\n",
        "  model = DecisionTreeClassifier(splitter = splitter)\n",
        "  clf = GridSearchCV(model, DTparams(data, model_name), n_jobs = hyp_params['parallelism'], cv = cv)"
      ],
      "metadata": {
        "id": "vILvlO5yQPcq"
      },
      "execution_count": 219,
      "outputs": []
    },
    {
      "cell_type": "code",
      "source": [
        "X_new = reduced_features\n",
        "Y_new = Y_encoded\n",
        "clf.fit(X_new, Y_new)"
      ],
      "metadata": {
        "colab": {
          "base_uri": "https://localhost:8080/"
        },
        "outputId": "640ce75c-d447-4c0e-c7f2-0922ec3b27e1",
        "id": "Rgpx_aKRQPcr"
      },
      "execution_count": 220,
      "outputs": [
        {
          "output_type": "execute_result",
          "data": {
            "text/plain": [
              "GridSearchCV(cv=RepeatedStratifiedKFold(n_repeats=2, n_splits=6, random_state=1),\n",
              "             estimator=DecisionTreeClassifier(splitter='random'), n_jobs=5,\n",
              "             param_grid={'max_depth': [4, 7], 'min_samples_leaf': [12, 6]})"
            ]
          },
          "metadata": {},
          "execution_count": 220
        }
      ]
    },
    {
      "cell_type": "code",
      "source": [
        "clf.cv_results_"
      ],
      "metadata": {
        "colab": {
          "base_uri": "https://localhost:8080/"
        },
        "outputId": "cbc4cf76-9317-4a46-c2c1-8d16d486e091",
        "id": "4Tk_wyS7QPcr"
      },
      "execution_count": 221,
      "outputs": [
        {
          "output_type": "execute_result",
          "data": {
            "text/plain": [
              "{'mean_fit_time': array([0.0019262 , 0.00099049, 0.00573446, 0.002895  ]),\n",
              " 'std_fit_time': array([0.00189113, 0.00014964, 0.00473969, 0.00289793]),\n",
              " 'mean_score_time': array([0.0021625 , 0.00269101, 0.00073892, 0.00119742]),\n",
              " 'std_score_time': array([0.00289597, 0.00315692, 0.00055639, 0.00148985]),\n",
              " 'param_max_depth': masked_array(data=[4, 4, 7, 7],\n",
              "              mask=[False, False, False, False],\n",
              "        fill_value='?',\n",
              "             dtype=object),\n",
              " 'param_min_samples_leaf': masked_array(data=[12, 6, 12, 6],\n",
              "              mask=[False, False, False, False],\n",
              "        fill_value='?',\n",
              "             dtype=object),\n",
              " 'params': [{'max_depth': 4, 'min_samples_leaf': 12},\n",
              "  {'max_depth': 4, 'min_samples_leaf': 6},\n",
              "  {'max_depth': 7, 'min_samples_leaf': 12},\n",
              "  {'max_depth': 7, 'min_samples_leaf': 6}],\n",
              " 'split0_test_score': array([0.88, 1.  , 0.84, 0.96]),\n",
              " 'split1_test_score': array([0.88, 0.96, 0.8 , 0.96]),\n",
              " 'split2_test_score': array([0.96, 1.  , 0.64, 0.96]),\n",
              " 'split3_test_score': array([0.88, 0.88, 0.64, 0.92]),\n",
              " 'split4_test_score': array([0.68, 0.64, 0.92, 0.96]),\n",
              " 'split5_test_score': array([0.96, 0.92, 0.48, 0.8 ]),\n",
              " 'split6_test_score': array([0.96, 0.96, 1.  , 1.  ]),\n",
              " 'split7_test_score': array([0.96, 0.88, 0.68, 0.96]),\n",
              " 'split8_test_score': array([0.84, 0.88, 0.96, 1.  ]),\n",
              " 'split9_test_score': array([0.96, 0.8 , 0.92, 0.92]),\n",
              " 'split10_test_score': array([0.6 , 0.92, 0.92, 0.92]),\n",
              " 'split11_test_score': array([0.92, 0.88, 0.8 , 1.  ]),\n",
              " 'mean_test_score': array([0.87333333, 0.89333333, 0.8       , 0.94666667]),\n",
              " 'std_test_score': array([0.1129405 , 0.0942809 , 0.15231546, 0.05249339]),\n",
              " 'rank_test_score': array([3, 2, 4, 1], dtype=int32)}"
            ]
          },
          "metadata": {},
          "execution_count": 221
        }
      ]
    },
    {
      "cell_type": "code",
      "source": [
        "print(\"Best score is {}\".format(clf.best_score_))\n",
        "print(\"Best parameters are {}\".format(clf.best_params_))"
      ],
      "metadata": {
        "colab": {
          "base_uri": "https://localhost:8080/"
        },
        "outputId": "93044018-dc9b-4977-92cd-dde4d35a4a1a",
        "id": "04SFwPkoQPcr"
      },
      "execution_count": 222,
      "outputs": [
        {
          "output_type": "stream",
          "name": "stdout",
          "text": [
            "Best score is 0.9466666666666667\n",
            "Best parameters are {'max_depth': 7, 'min_samples_leaf': 6}\n"
          ]
        }
      ]
    },
    {
      "cell_type": "markdown",
      "source": [
        "##SVM"
      ],
      "metadata": {
        "id": "im0kFeUbQVGw"
      }
    },
    {
      "cell_type": "code",
      "source": [
        "model_name = 'SVM' \n",
        "for key in models:\n",
        "  if model_name == key:\n",
        "    print('The model {} has been selected'.format(models[key]))"
      ],
      "metadata": {
        "colab": {
          "base_uri": "https://localhost:8080/"
        },
        "outputId": "74fad32d-28c0-447a-dafc-98888b2de4e8",
        "id": "q-lGRFePQqJI"
      },
      "execution_count": 223,
      "outputs": [
        {
          "output_type": "stream",
          "name": "stdout",
          "text": [
            "The model SVC() has been selected\n"
          ]
        }
      ]
    },
    {
      "cell_type": "code",
      "source": [
        "if model_name == 'SVM':\n",
        "  svmprms = data['design_state_data']['algorithms'][model_name]\n",
        "  tol = svmprms['tolerance']\n",
        "  max_iter = svmprms['max_iterations']\n",
        "  if svmprms['linear_kernel'] == True:\n",
        "    kernel = 'linear'\n",
        "  elif svmprms['rep_kernel'] == True:\n",
        "    kernel = 'rbf' #assuming rep_kernel represents rbf kernel\n",
        "  elif svmprms['polynomial_kernel'] == True:\n",
        "    kernel = 'poly'\n",
        "  elif svmprms['sigmoid_kernel'] == True:\n",
        "    kernel = 'sigmoid'\n",
        "  if svmprms['auto'] == True:\n",
        "    gamma = 'auto'\n",
        "  elif svmprms['scale'] == True:\n",
        "    gamma = 'scale'\n",
        "  \n",
        "  model = SVC(tol = tol, max_iter = max_iter, kernel = kernel, gamma = gamma)\n",
        "  clf = GridSearchCV(model, SVMparams(data, model_name), n_jobs = hyp_params['parallelism'], cv = cv)\n"
      ],
      "metadata": {
        "id": "QEBWdq_vQqJL"
      },
      "execution_count": 225,
      "outputs": []
    },
    {
      "cell_type": "code",
      "source": [
        "X_new = reduced_features\n",
        "Y_new = Y_encoded\n",
        "clf.fit(X_new, Y_new)"
      ],
      "metadata": {
        "colab": {
          "base_uri": "https://localhost:8080/"
        },
        "outputId": "3aca11fe-28d2-458b-f0e2-e723d5c3c6b2",
        "id": "fSJMI-TZQqJL"
      },
      "execution_count": 226,
      "outputs": [
        {
          "output_type": "execute_result",
          "data": {
            "text/plain": [
              "GridSearchCV(cv=RepeatedStratifiedKFold(n_repeats=2, n_splits=6, random_state=1),\n",
              "             estimator=SVC(gamma='auto', kernel='linear', max_iter=7, tol=7),\n",
              "             n_jobs=5, param_grid={'C': [566, 79]})"
            ]
          },
          "metadata": {},
          "execution_count": 226
        }
      ]
    },
    {
      "cell_type": "code",
      "source": [
        "clf.cv_results_"
      ],
      "metadata": {
        "colab": {
          "base_uri": "https://localhost:8080/"
        },
        "outputId": "407864df-2ab8-4471-8e84-c7260637368d",
        "id": "XfJS2RorQqJM"
      },
      "execution_count": 227,
      "outputs": [
        {
          "output_type": "execute_result",
          "data": {
            "text/plain": [
              "{'mean_fit_time': array([0.00522786, 0.0061939 ]),\n",
              " 'std_fit_time': array([0.00541965, 0.00564068]),\n",
              " 'mean_score_time': array([0.00082346, 0.00054942]),\n",
              " 'std_score_time': array([5.72458316e-04, 5.69451566e-05]),\n",
              " 'param_C': masked_array(data=[566, 79],\n",
              "              mask=[False, False],\n",
              "        fill_value='?',\n",
              "             dtype=object),\n",
              " 'params': [{'C': 566}, {'C': 79}],\n",
              " 'split0_test_score': array([0.32, 0.32]),\n",
              " 'split1_test_score': array([0.32, 0.32]),\n",
              " 'split2_test_score': array([0.32, 0.32]),\n",
              " 'split3_test_score': array([0.32, 0.32]),\n",
              " 'split4_test_score': array([0.36, 0.36]),\n",
              " 'split5_test_score': array([0.36, 0.36]),\n",
              " 'split6_test_score': array([0.32, 0.32]),\n",
              " 'split7_test_score': array([0.32, 0.32]),\n",
              " 'split8_test_score': array([0.32, 0.32]),\n",
              " 'split9_test_score': array([0.32, 0.32]),\n",
              " 'split10_test_score': array([0.36, 0.36]),\n",
              " 'split11_test_score': array([0.36, 0.36]),\n",
              " 'mean_test_score': array([0.33333333, 0.33333333]),\n",
              " 'std_test_score': array([0.01885618, 0.01885618]),\n",
              " 'rank_test_score': array([1, 1], dtype=int32)}"
            ]
          },
          "metadata": {},
          "execution_count": 227
        }
      ]
    },
    {
      "cell_type": "code",
      "source": [
        "print(\"Best score is {}\".format(clf.best_score_))\n",
        "print(\"Best parameters are {}\".format(clf.best_params_))"
      ],
      "metadata": {
        "colab": {
          "base_uri": "https://localhost:8080/"
        },
        "outputId": "7142c795-b7c4-4866-a115-395aa49dec27",
        "id": "mZSnLw2EQqJN"
      },
      "execution_count": 228,
      "outputs": [
        {
          "output_type": "stream",
          "name": "stdout",
          "text": [
            "Best score is 0.33333333333333326\n",
            "Best parameters are {'C': 566}\n"
          ]
        }
      ]
    },
    {
      "cell_type": "markdown",
      "source": [
        "##SGD"
      ],
      "metadata": {
        "id": "jpXOzDetQrMv"
      }
    },
    {
      "cell_type": "code",
      "source": [
        "model_name = 'SGD' \n",
        "for key in models:\n",
        "  if model_name == key:\n",
        "    print('The model {} has been selected'.format(models[key]))"
      ],
      "metadata": {
        "colab": {
          "base_uri": "https://localhost:8080/"
        },
        "outputId": "7803a19e-f20f-4d31-8d23-b43d326959db",
        "id": "fgbVOz9WQtJQ"
      },
      "execution_count": 229,
      "outputs": [
        {
          "output_type": "stream",
          "name": "stdout",
          "text": [
            "The model SGDClassifier() has been selected\n"
          ]
        }
      ]
    },
    {
      "cell_type": "code",
      "source": [
        "if model_name == 'SGD':\n",
        "  sgdprms = data['design_state_data']['algorithms'][model_name]\n",
        "  if sgdprms['use_modified_hubber_loss'] == True:\n",
        "    loss = 'modified_huber'\n",
        "  else: \n",
        "    loss='hinge'\n",
        "  tol = sgdprms['tolerance']\n",
        "  if sgdprms['use_l1_regularization'] == True:\n",
        "    penalty = 'l1'\n",
        "  if sgdprms['use_l2_regularization'] == True:\n",
        "    penalty = 'l2'\n",
        "  if sgdprms['use_elastic_net_regularization'] == True:\n",
        "    penalty = 'elasticnet'\n",
        "\n",
        "  model = SGDClassifier(loss = loss, tol = tol, penalty = penalty)\n",
        "  clf = GridSearchCV(model, SGDparams(data, model_name), n_jobs = hyp_params['parallelism'], cv = cv)\n"
      ],
      "metadata": {
        "id": "kb2Sx4JxQtJR"
      },
      "execution_count": 232,
      "outputs": []
    },
    {
      "cell_type": "code",
      "source": [
        "X_new = reduced_features\n",
        "Y_new = Y_encoded\n",
        "clf.fit(X_new, Y_new)"
      ],
      "metadata": {
        "colab": {
          "base_uri": "https://localhost:8080/"
        },
        "outputId": "94811d3f-e378-49ea-bf00-9b029d3aa3cf",
        "id": "v9gP3kcCQtJS"
      },
      "execution_count": 233,
      "outputs": [
        {
          "output_type": "execute_result",
          "data": {
            "text/plain": [
              "GridSearchCV(cv=RepeatedStratifiedKFold(n_repeats=2, n_splits=6, random_state=1),\n",
              "             estimator=SGDClassifier(penalty='elasticnet', tol=56), n_jobs=5,\n",
              "             param_grid={'alpha': [79, 56]})"
            ]
          },
          "metadata": {},
          "execution_count": 233
        }
      ]
    },
    {
      "cell_type": "code",
      "source": [
        "clf.cv_results_"
      ],
      "metadata": {
        "colab": {
          "base_uri": "https://localhost:8080/"
        },
        "outputId": "4a8a8753-d41d-4205-b5c2-99e52f9f9c80",
        "id": "kG-8vztPQtJS"
      },
      "execution_count": 234,
      "outputs": [
        {
          "output_type": "execute_result",
          "data": {
            "text/plain": [
              "{'mean_fit_time': array([0.01240194, 0.00840565]),\n",
              " 'std_fit_time': array([0.00814806, 0.007223  ]),\n",
              " 'mean_score_time': array([0.00290807, 0.00115919]),\n",
              " 'std_score_time': array([0.00446131, 0.00170846]),\n",
              " 'param_alpha': masked_array(data=[79, 56],\n",
              "              mask=[False, False],\n",
              "        fill_value='?',\n",
              "             dtype=object),\n",
              " 'params': [{'alpha': 79}, {'alpha': 56}],\n",
              " 'split0_test_score': array([0.32, 0.36]),\n",
              " 'split1_test_score': array([0.32, 0.32]),\n",
              " 'split2_test_score': array([0.32, 0.36]),\n",
              " 'split3_test_score': array([0.32, 0.36]),\n",
              " 'split4_test_score': array([0.36, 0.36]),\n",
              " 'split5_test_score': array([0.32, 0.32]),\n",
              " 'split6_test_score': array([0.36, 0.32]),\n",
              " 'split7_test_score': array([0.32, 0.36]),\n",
              " 'split8_test_score': array([0.32, 0.32]),\n",
              " 'split9_test_score': array([0.32, 0.36]),\n",
              " 'split10_test_score': array([0.32, 0.32]),\n",
              " 'split11_test_score': array([0.36, 0.36]),\n",
              " 'mean_test_score': array([0.33      , 0.34333333]),\n",
              " 'std_test_score': array([0.01732051, 0.01972027]),\n",
              " 'rank_test_score': array([2, 1], dtype=int32)}"
            ]
          },
          "metadata": {},
          "execution_count": 234
        }
      ]
    },
    {
      "cell_type": "code",
      "source": [
        "print(\"Best score is {}\".format(clf.best_score_))\n",
        "print(\"Best parameters are {}\".format(clf.best_params_))"
      ],
      "metadata": {
        "colab": {
          "base_uri": "https://localhost:8080/"
        },
        "outputId": "ffdbd483-67a2-4ce3-cb7c-eb1879c2270f",
        "id": "TX8ueSY-QtJT"
      },
      "execution_count": 235,
      "outputs": [
        {
          "output_type": "stream",
          "name": "stdout",
          "text": [
            "Best score is 0.34333333333333327\n",
            "Best parameters are {'alpha': 56}\n"
          ]
        }
      ]
    },
    {
      "cell_type": "markdown",
      "source": [
        "##KNN"
      ],
      "metadata": {
        "id": "90vjfspsQt7N"
      }
    },
    {
      "cell_type": "code",
      "source": [
        "model_name = 'KNN' \n",
        "for key in models:\n",
        "  if model_name == key:\n",
        "    print('The model {} has been selected'.format(models[key]))"
      ],
      "metadata": {
        "colab": {
          "base_uri": "https://localhost:8080/"
        },
        "outputId": "e38090dc-8128-45d1-b9d9-a83f21f17307",
        "id": "_QCliTbhQwAP"
      },
      "execution_count": 237,
      "outputs": [
        {
          "output_type": "stream",
          "name": "stdout",
          "text": [
            "The model KNeighborsClassifier() has been selected\n"
          ]
        }
      ]
    },
    {
      "cell_type": "code",
      "source": [
        "if model_name == 'KNN':\n",
        "  KNNprms = data['design_state_data']['algorithms'][model_name]\n",
        "  n_neighbors = KNNprms['k_value'][0]\n",
        "  if KNNprms['distance_weighting'] == True:\n",
        "    weights = 'distance'\n",
        "  else: \n",
        "    weights = 'uniform'\n",
        "  if 'auto' not in KNNprms['neighbour_finding_algorithm'].lower():\n",
        "    algorithm = KNNprms['neighbour_finding_algorithm']\n",
        "  else:\n",
        "    algorithm = 'auto'\n",
        "\n",
        "  model = KNeighborsClassifier(n_neighbors = n_neighbors, weights = weights, algorithm = algorithm)\n",
        "  clf = GridSearchCV(model, KNNparams(data, model_name), n_jobs = hyp_params['parallelism'], cv = cv)"
      ],
      "metadata": {
        "id": "DhyP0SaWQwAR"
      },
      "execution_count": 245,
      "outputs": []
    },
    {
      "cell_type": "code",
      "source": [
        "X_new = reduced_features\n",
        "Y_new = Y_encoded\n",
        "clf.fit(X_new, Y_new)"
      ],
      "metadata": {
        "colab": {
          "base_uri": "https://localhost:8080/"
        },
        "outputId": "a7775ec9-52fb-4e85-b95a-479496e4292a",
        "id": "cYlU1zbyQwAR"
      },
      "execution_count": 246,
      "outputs": [
        {
          "output_type": "execute_result",
          "data": {
            "text/plain": [
              "GridSearchCV(cv=RepeatedStratifiedKFold(n_repeats=2, n_splits=6, random_state=1),\n",
              "             estimator=KNeighborsClassifier(n_neighbors=78, weights='distance'),\n",
              "             n_jobs=5, param_grid={})"
            ]
          },
          "metadata": {},
          "execution_count": 246
        }
      ]
    },
    {
      "cell_type": "code",
      "source": [
        "clf.cv_results_"
      ],
      "metadata": {
        "colab": {
          "base_uri": "https://localhost:8080/"
        },
        "outputId": "3ae00538-be32-457c-b0a9-f676a32866bf",
        "id": "34XoG3ySQwAS"
      },
      "execution_count": 247,
      "outputs": [
        {
          "output_type": "execute_result",
          "data": {
            "text/plain": [
              "{'mean_fit_time': array([0.00100676]),\n",
              " 'std_fit_time': array([6.04713005e-05]),\n",
              " 'mean_score_time': array([0.00474717]),\n",
              " 'std_score_time': array([0.00458932]),\n",
              " 'params': [{}],\n",
              " 'split0_test_score': array([1.]),\n",
              " 'split1_test_score': array([0.96]),\n",
              " 'split2_test_score': array([0.96]),\n",
              " 'split3_test_score': array([0.96]),\n",
              " 'split4_test_score': array([0.96]),\n",
              " 'split5_test_score': array([0.92]),\n",
              " 'split6_test_score': array([1.]),\n",
              " 'split7_test_score': array([0.96]),\n",
              " 'split8_test_score': array([0.96]),\n",
              " 'split9_test_score': array([0.96]),\n",
              " 'split10_test_score': array([0.96]),\n",
              " 'split11_test_score': array([0.96]),\n",
              " 'mean_test_score': array([0.96333333]),\n",
              " 'std_test_score': array([0.01972027]),\n",
              " 'rank_test_score': array([1], dtype=int32)}"
            ]
          },
          "metadata": {},
          "execution_count": 247
        }
      ]
    },
    {
      "cell_type": "code",
      "source": [
        "print(\"Best score is {}\".format(clf.best_score_))\n",
        "print(\"Best parameters are {}\".format(clf.best_params_))"
      ],
      "metadata": {
        "colab": {
          "base_uri": "https://localhost:8080/"
        },
        "outputId": "56f2858a-d6d9-46c2-adef-253a10cc8343",
        "id": "ehFRq7aCQwAS"
      },
      "execution_count": 248,
      "outputs": [
        {
          "output_type": "stream",
          "name": "stdout",
          "text": [
            "Best score is 0.9633333333333335\n",
            "Best parameters are {}\n"
          ]
        }
      ]
    },
    {
      "cell_type": "markdown",
      "source": [
        "##ExtraRandomTrees"
      ],
      "metadata": {
        "id": "Msr1fKroQwhp"
      }
    },
    {
      "cell_type": "code",
      "source": [
        "model_name = 'extra_random_trees' \n",
        "for key in models:\n",
        "  if model_name == key:\n",
        "    print('The model {} has been selected'.format(models[key]))"
      ],
      "metadata": {
        "colab": {
          "base_uri": "https://localhost:8080/"
        },
        "outputId": "531dfc3e-3841-4d87-f2cc-bc22f8869883",
        "id": "NUJsyb_lQzrt"
      },
      "execution_count": 249,
      "outputs": [
        {
          "output_type": "stream",
          "name": "stdout",
          "text": [
            "The model ExtraTreesClassifier() has been selected\n"
          ]
        }
      ]
    },
    {
      "cell_type": "code",
      "source": [
        "if model_name == 'extra_random_trees':\n",
        "  model = models[model_name]\n",
        "  clf = GridSearchCV(model, ertparams(data, model_name), n_jobs = hyp_params['parallelism'], cv = cv)"
      ],
      "metadata": {
        "id": "EVNii4jMQzrt"
      },
      "execution_count": 250,
      "outputs": []
    },
    {
      "cell_type": "code",
      "source": [
        "X_new = reduced_features\n",
        "Y_new = Y_encoded\n",
        "clf.fit(X_new, Y_new)"
      ],
      "metadata": {
        "colab": {
          "base_uri": "https://localhost:8080/"
        },
        "outputId": "d4413167-17f1-453c-9721-a47f0693a3f4",
        "id": "jvZmYx7mQzru"
      },
      "execution_count": 251,
      "outputs": [
        {
          "output_type": "execute_result",
          "data": {
            "text/plain": [
              "GridSearchCV(cv=RepeatedStratifiedKFold(n_repeats=2, n_splits=6, random_state=1),\n",
              "             estimator=ExtraTreesClassifier(), n_jobs=5,\n",
              "             param_grid={'max_depth': [12, 45], 'min_samples_leaf': [78, 56],\n",
              "                         'n_estimators': [45, 489]})"
            ]
          },
          "metadata": {},
          "execution_count": 251
        }
      ]
    },
    {
      "cell_type": "code",
      "source": [
        "clf.cv_results_"
      ],
      "metadata": {
        "colab": {
          "base_uri": "https://localhost:8080/"
        },
        "outputId": "e7ca9302-d38f-4c2e-fd06-3173f824bfe2",
        "id": "GnvUmezrQzru"
      },
      "execution_count": 252,
      "outputs": [
        {
          "output_type": "execute_result",
          "data": {
            "text/plain": [
              "{'mean_fit_time': array([0.19420159, 2.15656573, 0.21972982, 3.04480716, 0.23685308,\n",
              "        2.26849626, 0.19005891, 2.33187173]),\n",
              " 'std_fit_time': array([0.06201081, 0.47538584, 0.05880652, 0.66962346, 0.03571167,\n",
              "        0.17888228, 0.03141438, 0.37573963]),\n",
              " 'mean_score_time': array([0.02340704, 0.23675525, 0.03285964, 0.29140184, 0.02741347,\n",
              "        0.2351807 , 0.02388124, 0.26764603]),\n",
              " 'std_score_time': array([0.0079298 , 0.06327348, 0.01706501, 0.05002689, 0.00671272,\n",
              "        0.0620893 , 0.0068124 , 0.08698584]),\n",
              " 'param_max_depth': masked_array(data=[12, 12, 12, 12, 45, 45, 45, 45],\n",
              "              mask=[False, False, False, False, False, False, False, False],\n",
              "        fill_value='?',\n",
              "             dtype=object),\n",
              " 'param_min_samples_leaf': masked_array(data=[78, 78, 56, 56, 78, 78, 56, 56],\n",
              "              mask=[False, False, False, False, False, False, False, False],\n",
              "        fill_value='?',\n",
              "             dtype=object),\n",
              " 'param_n_estimators': masked_array(data=[45, 489, 45, 489, 45, 489, 45, 489],\n",
              "              mask=[False, False, False, False, False, False, False, False],\n",
              "        fill_value='?',\n",
              "             dtype=object),\n",
              " 'params': [{'max_depth': 12, 'min_samples_leaf': 78, 'n_estimators': 45},\n",
              "  {'max_depth': 12, 'min_samples_leaf': 78, 'n_estimators': 489},\n",
              "  {'max_depth': 12, 'min_samples_leaf': 56, 'n_estimators': 45},\n",
              "  {'max_depth': 12, 'min_samples_leaf': 56, 'n_estimators': 489},\n",
              "  {'max_depth': 45, 'min_samples_leaf': 78, 'n_estimators': 45},\n",
              "  {'max_depth': 45, 'min_samples_leaf': 78, 'n_estimators': 489},\n",
              "  {'max_depth': 45, 'min_samples_leaf': 56, 'n_estimators': 45},\n",
              "  {'max_depth': 45, 'min_samples_leaf': 56, 'n_estimators': 489}],\n",
              " 'split0_test_score': array([0.32, 0.32, 0.8 , 0.76, 0.32, 0.32, 0.76, 0.76]),\n",
              " 'split1_test_score': array([0.32, 0.32, 0.68, 0.68, 0.32, 0.32, 0.52, 0.68]),\n",
              " 'split2_test_score': array([0.32, 0.32, 0.64, 0.64, 0.32, 0.32, 0.64, 0.64]),\n",
              " 'split3_test_score': array([0.32, 0.32, 0.32, 0.64, 0.32, 0.32, 0.64, 0.64]),\n",
              " 'split4_test_score': array([0.32, 0.32, 0.76, 0.72, 0.32, 0.32, 0.72, 0.72]),\n",
              " 'split5_test_score': array([0.32, 0.32, 0.72, 0.72, 0.32, 0.32, 0.72, 0.68]),\n",
              " 'split6_test_score': array([0.32, 0.32, 0.68, 0.68, 0.32, 0.32, 0.68, 0.68]),\n",
              " 'split7_test_score': array([0.32, 0.32, 0.56, 0.68, 0.32, 0.32, 0.68, 0.68]),\n",
              " 'split8_test_score': array([0.32, 0.32, 0.64, 0.64, 0.32, 0.32, 0.64, 0.64]),\n",
              " 'split9_test_score': array([0.32, 0.32, 0.64, 0.64, 0.32, 0.32, 0.64, 0.64]),\n",
              " 'split10_test_score': array([0.32, 0.32, 0.72, 0.84, 0.32, 0.32, 0.8 , 0.72]),\n",
              " 'split11_test_score': array([0.32, 0.32, 0.68, 0.68, 0.32, 0.32, 0.68, 0.68]),\n",
              " 'mean_test_score': array([0.32      , 0.32      , 0.65333333, 0.69333333, 0.32      ,\n",
              "        0.32      , 0.67666667, 0.68      ]),\n",
              " 'std_test_score': array([5.55111512e-17, 5.55111512e-17, 1.16999525e-01, 5.73488351e-02,\n",
              "        5.55111512e-17, 5.55111512e-17, 6.82316316e-02, 3.65148372e-02]),\n",
              " 'rank_test_score': array([5, 5, 4, 1, 5, 5, 3, 2], dtype=int32)}"
            ]
          },
          "metadata": {},
          "execution_count": 252
        }
      ]
    },
    {
      "cell_type": "code",
      "source": [
        "print(\"Best score is {}\".format(clf.best_score_))\n",
        "print(\"Best parameters are {}\".format(clf.best_params_))"
      ],
      "metadata": {
        "colab": {
          "base_uri": "https://localhost:8080/"
        },
        "outputId": "7e791f58-c0d2-4571-f22d-9d719c6e6d31",
        "id": "T9At76a1Qzru"
      },
      "execution_count": 253,
      "outputs": [
        {
          "output_type": "stream",
          "name": "stdout",
          "text": [
            "Best score is 0.6933333333333332\n",
            "Best parameters are {'max_depth': 12, 'min_samples_leaf': 56, 'n_estimators': 489}\n"
          ]
        }
      ]
    },
    {
      "cell_type": "markdown",
      "source": [
        "##Neural network"
      ],
      "metadata": {
        "id": "pHlpF7HeQ0wu"
      }
    },
    {
      "cell_type": "code",
      "source": [
        "model_name = 'neural_network' \n",
        "for key in models:\n",
        "  if model_name == key:\n",
        "    print('The model {} has been selected'.format(models[key]))"
      ],
      "metadata": {
        "colab": {
          "base_uri": "https://localhost:8080/"
        },
        "outputId": "ec271626-ecf9-4655-b96e-112b924398dc",
        "id": "jtvpb6p5Q3pV"
      },
      "execution_count": 254,
      "outputs": [
        {
          "output_type": "stream",
          "name": "stdout",
          "text": [
            "The model MLPClassifier() has been selected\n"
          ]
        }
      ]
    },
    {
      "cell_type": "code",
      "source": [
        "if model_name == 'neural_network':\n",
        "  nnprms = data['design_state_data']['algorithms'][model_name]\n",
        "  alpha = nnprms['alpha_value']\n",
        "  max_iter = nnprms['max_iterations']\n",
        "  tol = nnprms['convergence_tolerance']\n",
        "  early_stopping = nnprms['early_stopping']\n",
        "  solver = nnprms['solver'].lower()\n",
        "  shuffle = nnprms['shuffle_data']\n",
        "  learning_rate_init = nnprms['initial_learning_rate']\n",
        "  if nnprms['automatic_batching'] == True:\n",
        "    batch_size = 'auto'\n",
        "  beta_1 = nnprms['beta_1']\n",
        "  beta_2 = nnprms['beta_2']\n",
        "  epsilon = nnprms['epsilon']\n",
        "  power_t = nnprms['power_t']\n",
        "  nesterovs_momentum = nnprms['use_nesterov_momentum']\n",
        "\n",
        "  model = MLPClassifier(alpha = alpha, max_iter = max_iter, tol = tol, early_stopping = early_stopping, solver = solver, shuffle = shuffle, learning_rate_init=learning_rate_init,\n",
        "                batch_size = batch_size, beta_1 = beta_1, beta_2 = beta_2, epsilon = epsilon, power_t = power_t, nesterovs_momentum = nesterovs_momentum)\n",
        "  clf = GridSearchCV(model, nnparams(data, model_name), n_jobs = hyp_params['parallelism'], cv = cv)"
      ],
      "metadata": {
        "id": "Y99--v8JQ3pa"
      },
      "execution_count": 262,
      "outputs": []
    },
    {
      "cell_type": "code",
      "source": [
        "X_new = reduced_features\n",
        "Y_new = Y_encoded\n",
        "clf.fit(X_new, Y_new) ##error due to input values"
      ],
      "metadata": {
        "colab": {
          "base_uri": "https://localhost:8080/",
          "height": 715
        },
        "outputId": "156d8a70-590c-4361-8529-b8c2aab5e490",
        "id": "swFLlhQ5Q3pb"
      },
      "execution_count": 263,
      "outputs": [
        {
          "output_type": "stream",
          "name": "stderr",
          "text": [
            "/usr/local/lib/python3.8/dist-packages/sklearn/model_selection/_validation.py:372: FitFailedWarning: \n",
            "24 fits failed out of a total of 24.\n",
            "The score on these train-test partitions for these parameters will be set to nan.\n",
            "If these failures are not expected, you can try to debug them by setting error_score='raise'.\n",
            "\n",
            "Below are more details about the failures:\n",
            "--------------------------------------------------------------------------------\n",
            "24 fits failed with the following error:\n",
            "Traceback (most recent call last):\n",
            "  File \"/usr/local/lib/python3.8/dist-packages/sklearn/model_selection/_validation.py\", line 680, in _fit_and_score\n",
            "    estimator.fit(X_train, y_train, **fit_params)\n",
            "  File \"/usr/local/lib/python3.8/dist-packages/sklearn/neural_network/_multilayer_perceptron.py\", line 752, in fit\n",
            "    return self._fit(X, y, incremental=False)\n",
            "  File \"/usr/local/lib/python3.8/dist-packages/sklearn/neural_network/_multilayer_perceptron.py\", line 384, in _fit\n",
            "    self._validate_hyperparameters()\n",
            "  File \"/usr/local/lib/python3.8/dist-packages/sklearn/neural_network/_multilayer_perceptron.py\", line 451, in _validate_hyperparameters\n",
            "    raise ValueError(\"max_iter must be > 0, got %s.\" % self.max_iter)\n",
            "ValueError: max_iter must be > 0, got 0.\n",
            "\n",
            "  warnings.warn(some_fits_failed_message, FitFailedWarning)\n",
            "/usr/local/lib/python3.8/dist-packages/sklearn/model_selection/_search.py:969: UserWarning: One or more of the test scores are non-finite: [nan nan]\n",
            "  warnings.warn(\n"
          ]
        },
        {
          "output_type": "error",
          "ename": "ValueError",
          "evalue": "ignored",
          "traceback": [
            "\u001b[0;31m---------------------------------------------------------------------------\u001b[0m",
            "\u001b[0;31mValueError\u001b[0m                                Traceback (most recent call last)",
            "\u001b[0;32m<ipython-input-263-ac407a4fcedd>\u001b[0m in \u001b[0;36m<module>\u001b[0;34m\u001b[0m\n\u001b[1;32m      1\u001b[0m \u001b[0mX_new\u001b[0m \u001b[0;34m=\u001b[0m \u001b[0mreduced_features\u001b[0m\u001b[0;34m\u001b[0m\u001b[0;34m\u001b[0m\u001b[0m\n\u001b[1;32m      2\u001b[0m \u001b[0mY_new\u001b[0m \u001b[0;34m=\u001b[0m \u001b[0mY_encoded\u001b[0m\u001b[0;34m\u001b[0m\u001b[0;34m\u001b[0m\u001b[0m\n\u001b[0;32m----> 3\u001b[0;31m \u001b[0mclf\u001b[0m\u001b[0;34m.\u001b[0m\u001b[0mfit\u001b[0m\u001b[0;34m(\u001b[0m\u001b[0mX_new\u001b[0m\u001b[0;34m,\u001b[0m \u001b[0mY_new\u001b[0m\u001b[0;34m)\u001b[0m\u001b[0;34m\u001b[0m\u001b[0;34m\u001b[0m\u001b[0m\n\u001b[0m",
            "\u001b[0;32m/usr/local/lib/python3.8/dist-packages/sklearn/model_selection/_search.py\u001b[0m in \u001b[0;36mfit\u001b[0;34m(self, X, y, groups, **fit_params)\u001b[0m\n\u001b[1;32m    924\u001b[0m             \u001b[0mrefit_start_time\u001b[0m \u001b[0;34m=\u001b[0m \u001b[0mtime\u001b[0m\u001b[0;34m.\u001b[0m\u001b[0mtime\u001b[0m\u001b[0;34m(\u001b[0m\u001b[0;34m)\u001b[0m\u001b[0;34m\u001b[0m\u001b[0;34m\u001b[0m\u001b[0m\n\u001b[1;32m    925\u001b[0m             \u001b[0;32mif\u001b[0m \u001b[0my\u001b[0m \u001b[0;32mis\u001b[0m \u001b[0;32mnot\u001b[0m \u001b[0;32mNone\u001b[0m\u001b[0;34m:\u001b[0m\u001b[0;34m\u001b[0m\u001b[0;34m\u001b[0m\u001b[0m\n\u001b[0;32m--> 926\u001b[0;31m                 \u001b[0mself\u001b[0m\u001b[0;34m.\u001b[0m\u001b[0mbest_estimator_\u001b[0m\u001b[0;34m.\u001b[0m\u001b[0mfit\u001b[0m\u001b[0;34m(\u001b[0m\u001b[0mX\u001b[0m\u001b[0;34m,\u001b[0m \u001b[0my\u001b[0m\u001b[0;34m,\u001b[0m \u001b[0;34m**\u001b[0m\u001b[0mfit_params\u001b[0m\u001b[0;34m)\u001b[0m\u001b[0;34m\u001b[0m\u001b[0;34m\u001b[0m\u001b[0m\n\u001b[0m\u001b[1;32m    927\u001b[0m             \u001b[0;32melse\u001b[0m\u001b[0;34m:\u001b[0m\u001b[0;34m\u001b[0m\u001b[0;34m\u001b[0m\u001b[0m\n\u001b[1;32m    928\u001b[0m                 \u001b[0mself\u001b[0m\u001b[0;34m.\u001b[0m\u001b[0mbest_estimator_\u001b[0m\u001b[0;34m.\u001b[0m\u001b[0mfit\u001b[0m\u001b[0;34m(\u001b[0m\u001b[0mX\u001b[0m\u001b[0;34m,\u001b[0m \u001b[0;34m**\u001b[0m\u001b[0mfit_params\u001b[0m\u001b[0;34m)\u001b[0m\u001b[0;34m\u001b[0m\u001b[0;34m\u001b[0m\u001b[0m\n",
            "\u001b[0;32m/usr/local/lib/python3.8/dist-packages/sklearn/neural_network/_multilayer_perceptron.py\u001b[0m in \u001b[0;36mfit\u001b[0;34m(self, X, y)\u001b[0m\n\u001b[1;32m    750\u001b[0m             \u001b[0mReturns\u001b[0m \u001b[0ma\u001b[0m \u001b[0mtrained\u001b[0m \u001b[0mMLP\u001b[0m \u001b[0mmodel\u001b[0m\u001b[0;34m.\u001b[0m\u001b[0;34m\u001b[0m\u001b[0;34m\u001b[0m\u001b[0m\n\u001b[1;32m    751\u001b[0m         \"\"\"\n\u001b[0;32m--> 752\u001b[0;31m         \u001b[0;32mreturn\u001b[0m \u001b[0mself\u001b[0m\u001b[0;34m.\u001b[0m\u001b[0m_fit\u001b[0m\u001b[0;34m(\u001b[0m\u001b[0mX\u001b[0m\u001b[0;34m,\u001b[0m \u001b[0my\u001b[0m\u001b[0;34m,\u001b[0m \u001b[0mincremental\u001b[0m\u001b[0;34m=\u001b[0m\u001b[0;32mFalse\u001b[0m\u001b[0;34m)\u001b[0m\u001b[0;34m\u001b[0m\u001b[0;34m\u001b[0m\u001b[0m\n\u001b[0m\u001b[1;32m    753\u001b[0m \u001b[0;34m\u001b[0m\u001b[0m\n\u001b[1;32m    754\u001b[0m     \u001b[0;32mdef\u001b[0m \u001b[0m_check_solver\u001b[0m\u001b[0;34m(\u001b[0m\u001b[0mself\u001b[0m\u001b[0;34m)\u001b[0m\u001b[0;34m:\u001b[0m\u001b[0;34m\u001b[0m\u001b[0;34m\u001b[0m\u001b[0m\n",
            "\u001b[0;32m/usr/local/lib/python3.8/dist-packages/sklearn/neural_network/_multilayer_perceptron.py\u001b[0m in \u001b[0;36m_fit\u001b[0;34m(self, X, y, incremental)\u001b[0m\n\u001b[1;32m    382\u001b[0m \u001b[0;34m\u001b[0m\u001b[0m\n\u001b[1;32m    383\u001b[0m         \u001b[0;31m# Validate input parameters.\u001b[0m\u001b[0;34m\u001b[0m\u001b[0;34m\u001b[0m\u001b[0;34m\u001b[0m\u001b[0m\n\u001b[0;32m--> 384\u001b[0;31m         \u001b[0mself\u001b[0m\u001b[0;34m.\u001b[0m\u001b[0m_validate_hyperparameters\u001b[0m\u001b[0;34m(\u001b[0m\u001b[0;34m)\u001b[0m\u001b[0;34m\u001b[0m\u001b[0;34m\u001b[0m\u001b[0m\n\u001b[0m\u001b[1;32m    385\u001b[0m         \u001b[0;32mif\u001b[0m \u001b[0mnp\u001b[0m\u001b[0;34m.\u001b[0m\u001b[0many\u001b[0m\u001b[0;34m(\u001b[0m\u001b[0mnp\u001b[0m\u001b[0;34m.\u001b[0m\u001b[0marray\u001b[0m\u001b[0;34m(\u001b[0m\u001b[0mhidden_layer_sizes\u001b[0m\u001b[0;34m)\u001b[0m \u001b[0;34m<=\u001b[0m \u001b[0;36m0\u001b[0m\u001b[0;34m)\u001b[0m\u001b[0;34m:\u001b[0m\u001b[0;34m\u001b[0m\u001b[0;34m\u001b[0m\u001b[0m\n\u001b[1;32m    386\u001b[0m             raise ValueError(\n",
            "\u001b[0;32m/usr/local/lib/python3.8/dist-packages/sklearn/neural_network/_multilayer_perceptron.py\u001b[0m in \u001b[0;36m_validate_hyperparameters\u001b[0;34m(self)\u001b[0m\n\u001b[1;32m    449\u001b[0m             )\n\u001b[1;32m    450\u001b[0m         \u001b[0;32mif\u001b[0m \u001b[0mself\u001b[0m\u001b[0;34m.\u001b[0m\u001b[0mmax_iter\u001b[0m \u001b[0;34m<=\u001b[0m \u001b[0;36m0\u001b[0m\u001b[0;34m:\u001b[0m\u001b[0;34m\u001b[0m\u001b[0;34m\u001b[0m\u001b[0m\n\u001b[0;32m--> 451\u001b[0;31m             \u001b[0;32mraise\u001b[0m \u001b[0mValueError\u001b[0m\u001b[0;34m(\u001b[0m\u001b[0;34m\"max_iter must be > 0, got %s.\"\u001b[0m \u001b[0;34m%\u001b[0m \u001b[0mself\u001b[0m\u001b[0;34m.\u001b[0m\u001b[0mmax_iter\u001b[0m\u001b[0;34m)\u001b[0m\u001b[0;34m\u001b[0m\u001b[0;34m\u001b[0m\u001b[0m\n\u001b[0m\u001b[1;32m    452\u001b[0m         \u001b[0;32mif\u001b[0m \u001b[0mself\u001b[0m\u001b[0;34m.\u001b[0m\u001b[0mmax_fun\u001b[0m \u001b[0;34m<=\u001b[0m \u001b[0;36m0\u001b[0m\u001b[0;34m:\u001b[0m\u001b[0;34m\u001b[0m\u001b[0;34m\u001b[0m\u001b[0m\n\u001b[1;32m    453\u001b[0m             \u001b[0;32mraise\u001b[0m \u001b[0mValueError\u001b[0m\u001b[0;34m(\u001b[0m\u001b[0;34m\"max_fun must be > 0, got %s.\"\u001b[0m \u001b[0;34m%\u001b[0m \u001b[0mself\u001b[0m\u001b[0;34m.\u001b[0m\u001b[0mmax_fun\u001b[0m\u001b[0;34m)\u001b[0m\u001b[0;34m\u001b[0m\u001b[0;34m\u001b[0m\u001b[0m\n",
            "\u001b[0;31mValueError\u001b[0m: max_iter must be > 0, got 0."
          ]
        }
      ]
    },
    {
      "cell_type": "code",
      "source": [
        "clf.cv_results_"
      ],
      "metadata": {
        "colab": {
          "base_uri": "https://localhost:8080/",
          "height": 164
        },
        "outputId": "976581a7-048d-4e68-9990-175abf647fb1",
        "id": "StXKvj9TQ3pb"
      },
      "execution_count": 259,
      "outputs": [
        {
          "output_type": "error",
          "ename": "AttributeError",
          "evalue": "ignored",
          "traceback": [
            "\u001b[0;31m---------------------------------------------------------------------------\u001b[0m",
            "\u001b[0;31mAttributeError\u001b[0m                            Traceback (most recent call last)",
            "\u001b[0;32m<ipython-input-259-8de6e5dbc6ed>\u001b[0m in \u001b[0;36m<module>\u001b[0;34m\u001b[0m\n\u001b[0;32m----> 1\u001b[0;31m \u001b[0mclf\u001b[0m\u001b[0;34m.\u001b[0m\u001b[0mcv_results_\u001b[0m\u001b[0;34m\u001b[0m\u001b[0;34m\u001b[0m\u001b[0m\n\u001b[0m",
            "\u001b[0;31mAttributeError\u001b[0m: 'GridSearchCV' object has no attribute 'cv_results_'"
          ]
        }
      ]
    },
    {
      "cell_type": "code",
      "source": [
        "print(\"Best score is {}\".format(clf.best_score_))\n",
        "print(\"Best parameters are {}\".format(clf.best_params_))"
      ],
      "metadata": {
        "colab": {
          "base_uri": "https://localhost:8080/"
        },
        "outputId": "85b3d826-256b-43c6-fc31-ba608a429bae",
        "id": "PqCMpH0KQ3pc"
      },
      "execution_count": 264,
      "outputs": [
        {
          "output_type": "stream",
          "name": "stdout",
          "text": [
            "Best score is nan\n",
            "Best parameters are {'hidden_layer_sizes': 67}\n"
          ]
        }
      ]
    },
    {
      "cell_type": "code",
      "source": [],
      "metadata": {
        "id": "8syktdXQWbWx"
      },
      "execution_count": null,
      "outputs": []
    }
  ]
}